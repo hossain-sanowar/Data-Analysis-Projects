{
 "cells": [
  {
   "cell_type": "markdown",
   "metadata": {},
   "source": [
    "#1. Importing Libraries"
   ]
  },
  {
   "cell_type": "code",
   "execution_count": 1,
   "metadata": {},
   "outputs": [],
   "source": [
    "import pandas as pd\n",
    "import numpy as np\n",
    "import matplotlib.pyplot as plt\n",
    "%matplotlib inline\n"
   ]
  },
  {
   "cell_type": "markdown",
   "metadata": {},
   "source": [
    "Research Question:\n",
    "\n",
    "In this assignment, I will study the soccer database from 2008 to 2016 for many European nations. The data was retrieved through SQLite and combined using JOINs inside the program.\n",
    "\n",
    "- What are the three leagues with the most victories from 2008 to 2016?\n",
    "- Which clubs in the three leagues have won the most games? Who has the highest rating?\n",
    "- What characteristics contribute to a player's total rating? What team characteristics result in the most victories?"
   ]
  },
  {
   "cell_type": "markdown",
   "metadata": {},
   "source": [
    "#2. Loading Dataset\n",
    "https://www.kaggle.com/datasets/hugomathien/soccer"
   ]
  },
  {
   "cell_type": "code",
   "execution_count": 2,
   "metadata": {},
   "outputs": [],
   "source": [
    "df1 = pd.read_csv('Player.csv')"
   ]
  },
  {
   "cell_type": "code",
   "execution_count": 3,
   "metadata": {},
   "outputs": [],
   "source": [
    "df2 = pd.read_csv('Player_Attributes.csv')"
   ]
  },
  {
   "cell_type": "code",
   "execution_count": 4,
   "metadata": {},
   "outputs": [],
   "source": [
    "#merge df1 and df2\n",
    "player = df1.merge(df2, on = 'player_api_id')"
   ]
  },
  {
   "cell_type": "code",
   "execution_count": 5,
   "metadata": {},
   "outputs": [],
   "source": [
    "df3 = pd.read_csv('Team.csv')"
   ]
  },
  {
   "cell_type": "code",
   "execution_count": 6,
   "metadata": {},
   "outputs": [],
   "source": [
    "df4 = pd.read_csv('Team_Attributes.csv')"
   ]
  },
  {
   "cell_type": "code",
   "execution_count": 7,
   "metadata": {},
   "outputs": [],
   "source": [
    "#merge data df3 and df4\n",
    "Team = df3.merge(df4, on = 'team_api_id')"
   ]
  },
  {
   "cell_type": "code",
   "execution_count": 8,
   "metadata": {},
   "outputs": [],
   "source": [
    "Match = pd.read_csv('Match.csv')"
   ]
  },
  {
   "cell_type": "markdown",
   "metadata": {},
   "source": [
    "# 3. Exploratory Data Analysis on Player dataset"
   ]
  },
  {
   "cell_type": "code",
   "execution_count": 9,
   "metadata": {},
   "outputs": [
    {
     "data": {
      "text/html": [
       "<div>\n",
       "<style scoped>\n",
       "    .dataframe tbody tr th:only-of-type {\n",
       "        vertical-align: middle;\n",
       "    }\n",
       "\n",
       "    .dataframe tbody tr th {\n",
       "        vertical-align: top;\n",
       "    }\n",
       "\n",
       "    .dataframe thead th {\n",
       "        text-align: right;\n",
       "    }\n",
       "</style>\n",
       "<table border=\"1\" class=\"dataframe\">\n",
       "  <thead>\n",
       "    <tr style=\"text-align: right;\">\n",
       "      <th></th>\n",
       "      <th>id_x</th>\n",
       "      <th>player_api_id</th>\n",
       "      <th>player_name</th>\n",
       "      <th>player_fifa_api_id_x</th>\n",
       "      <th>birthday</th>\n",
       "      <th>height</th>\n",
       "      <th>weight</th>\n",
       "      <th>id_y</th>\n",
       "      <th>player_fifa_api_id_y</th>\n",
       "      <th>date</th>\n",
       "      <th>...</th>\n",
       "      <th>vision</th>\n",
       "      <th>penalties</th>\n",
       "      <th>marking</th>\n",
       "      <th>standing_tackle</th>\n",
       "      <th>sliding_tackle</th>\n",
       "      <th>gk_diving</th>\n",
       "      <th>gk_handling</th>\n",
       "      <th>gk_kicking</th>\n",
       "      <th>gk_positioning</th>\n",
       "      <th>gk_reflexes</th>\n",
       "    </tr>\n",
       "  </thead>\n",
       "  <tbody>\n",
       "    <tr>\n",
       "      <th>0</th>\n",
       "      <td>1</td>\n",
       "      <td>505942</td>\n",
       "      <td>Aaron Appindangoye</td>\n",
       "      <td>218353</td>\n",
       "      <td>1992-02-29 00:00:00</td>\n",
       "      <td>182.88</td>\n",
       "      <td>187</td>\n",
       "      <td>1</td>\n",
       "      <td>218353</td>\n",
       "      <td>2016-02-18 00:00:00</td>\n",
       "      <td>...</td>\n",
       "      <td>54.0</td>\n",
       "      <td>48.0</td>\n",
       "      <td>65.0</td>\n",
       "      <td>69.0</td>\n",
       "      <td>69.0</td>\n",
       "      <td>6.0</td>\n",
       "      <td>11.0</td>\n",
       "      <td>10.0</td>\n",
       "      <td>8.0</td>\n",
       "      <td>8.0</td>\n",
       "    </tr>\n",
       "    <tr>\n",
       "      <th>1</th>\n",
       "      <td>1</td>\n",
       "      <td>505942</td>\n",
       "      <td>Aaron Appindangoye</td>\n",
       "      <td>218353</td>\n",
       "      <td>1992-02-29 00:00:00</td>\n",
       "      <td>182.88</td>\n",
       "      <td>187</td>\n",
       "      <td>2</td>\n",
       "      <td>218353</td>\n",
       "      <td>2015-11-19 00:00:00</td>\n",
       "      <td>...</td>\n",
       "      <td>54.0</td>\n",
       "      <td>48.0</td>\n",
       "      <td>65.0</td>\n",
       "      <td>69.0</td>\n",
       "      <td>69.0</td>\n",
       "      <td>6.0</td>\n",
       "      <td>11.0</td>\n",
       "      <td>10.0</td>\n",
       "      <td>8.0</td>\n",
       "      <td>8.0</td>\n",
       "    </tr>\n",
       "    <tr>\n",
       "      <th>2</th>\n",
       "      <td>1</td>\n",
       "      <td>505942</td>\n",
       "      <td>Aaron Appindangoye</td>\n",
       "      <td>218353</td>\n",
       "      <td>1992-02-29 00:00:00</td>\n",
       "      <td>182.88</td>\n",
       "      <td>187</td>\n",
       "      <td>3</td>\n",
       "      <td>218353</td>\n",
       "      <td>2015-09-21 00:00:00</td>\n",
       "      <td>...</td>\n",
       "      <td>54.0</td>\n",
       "      <td>48.0</td>\n",
       "      <td>65.0</td>\n",
       "      <td>66.0</td>\n",
       "      <td>69.0</td>\n",
       "      <td>6.0</td>\n",
       "      <td>11.0</td>\n",
       "      <td>10.0</td>\n",
       "      <td>8.0</td>\n",
       "      <td>8.0</td>\n",
       "    </tr>\n",
       "    <tr>\n",
       "      <th>3</th>\n",
       "      <td>1</td>\n",
       "      <td>505942</td>\n",
       "      <td>Aaron Appindangoye</td>\n",
       "      <td>218353</td>\n",
       "      <td>1992-02-29 00:00:00</td>\n",
       "      <td>182.88</td>\n",
       "      <td>187</td>\n",
       "      <td>4</td>\n",
       "      <td>218353</td>\n",
       "      <td>2015-03-20 00:00:00</td>\n",
       "      <td>...</td>\n",
       "      <td>53.0</td>\n",
       "      <td>47.0</td>\n",
       "      <td>62.0</td>\n",
       "      <td>63.0</td>\n",
       "      <td>66.0</td>\n",
       "      <td>5.0</td>\n",
       "      <td>10.0</td>\n",
       "      <td>9.0</td>\n",
       "      <td>7.0</td>\n",
       "      <td>7.0</td>\n",
       "    </tr>\n",
       "    <tr>\n",
       "      <th>4</th>\n",
       "      <td>1</td>\n",
       "      <td>505942</td>\n",
       "      <td>Aaron Appindangoye</td>\n",
       "      <td>218353</td>\n",
       "      <td>1992-02-29 00:00:00</td>\n",
       "      <td>182.88</td>\n",
       "      <td>187</td>\n",
       "      <td>5</td>\n",
       "      <td>218353</td>\n",
       "      <td>2007-02-22 00:00:00</td>\n",
       "      <td>...</td>\n",
       "      <td>53.0</td>\n",
       "      <td>47.0</td>\n",
       "      <td>62.0</td>\n",
       "      <td>63.0</td>\n",
       "      <td>66.0</td>\n",
       "      <td>5.0</td>\n",
       "      <td>10.0</td>\n",
       "      <td>9.0</td>\n",
       "      <td>7.0</td>\n",
       "      <td>7.0</td>\n",
       "    </tr>\n",
       "  </tbody>\n",
       "</table>\n",
       "<p>5 rows × 48 columns</p>\n",
       "</div>"
      ],
      "text/plain": [
       "   id_x  player_api_id         player_name  player_fifa_api_id_x  \\\n",
       "0     1         505942  Aaron Appindangoye                218353   \n",
       "1     1         505942  Aaron Appindangoye                218353   \n",
       "2     1         505942  Aaron Appindangoye                218353   \n",
       "3     1         505942  Aaron Appindangoye                218353   \n",
       "4     1         505942  Aaron Appindangoye                218353   \n",
       "\n",
       "              birthday  height  weight  id_y  player_fifa_api_id_y  \\\n",
       "0  1992-02-29 00:00:00  182.88     187     1                218353   \n",
       "1  1992-02-29 00:00:00  182.88     187     2                218353   \n",
       "2  1992-02-29 00:00:00  182.88     187     3                218353   \n",
       "3  1992-02-29 00:00:00  182.88     187     4                218353   \n",
       "4  1992-02-29 00:00:00  182.88     187     5                218353   \n",
       "\n",
       "                  date  ...  vision  penalties marking standing_tackle  \\\n",
       "0  2016-02-18 00:00:00  ...    54.0       48.0    65.0            69.0   \n",
       "1  2015-11-19 00:00:00  ...    54.0       48.0    65.0            69.0   \n",
       "2  2015-09-21 00:00:00  ...    54.0       48.0    65.0            66.0   \n",
       "3  2015-03-20 00:00:00  ...    53.0       47.0    62.0            63.0   \n",
       "4  2007-02-22 00:00:00  ...    53.0       47.0    62.0            63.0   \n",
       "\n",
       "  sliding_tackle  gk_diving  gk_handling  gk_kicking  gk_positioning  \\\n",
       "0           69.0        6.0         11.0        10.0             8.0   \n",
       "1           69.0        6.0         11.0        10.0             8.0   \n",
       "2           69.0        6.0         11.0        10.0             8.0   \n",
       "3           66.0        5.0         10.0         9.0             7.0   \n",
       "4           66.0        5.0         10.0         9.0             7.0   \n",
       "\n",
       "   gk_reflexes  \n",
       "0          8.0  \n",
       "1          8.0  \n",
       "2          8.0  \n",
       "3          7.0  \n",
       "4          7.0  \n",
       "\n",
       "[5 rows x 48 columns]"
      ]
     },
     "execution_count": 9,
     "metadata": {},
     "output_type": "execute_result"
    }
   ],
   "source": [
    "player.head()"
   ]
  },
  {
   "cell_type": "code",
   "execution_count": 10,
   "metadata": {},
   "outputs": [
    {
     "data": {
      "text/plain": [
       "(183978, 48)"
      ]
     },
     "execution_count": 10,
     "metadata": {},
     "output_type": "execute_result"
    }
   ],
   "source": [
    "player.shape"
   ]
  },
  {
   "cell_type": "code",
   "execution_count": 11,
   "metadata": {},
   "outputs": [
    {
     "data": {
      "text/plain": [
       "id_x                     11060\n",
       "player_api_id            11060\n",
       "player_name              10848\n",
       "player_fifa_api_id_x     11060\n",
       "birthday                  5762\n",
       "height                      20\n",
       "weight                      50\n",
       "id_y                    183978\n",
       "player_fifa_api_id_y     11062\n",
       "date                       197\n",
       "overall_rating              61\n",
       "potential                   56\n",
       "preferred_foot               2\n",
       "attacking_work_rate          8\n",
       "defensive_work_rate         19\n",
       "crossing                    95\n",
       "finishing                   97\n",
       "heading_accuracy            96\n",
       "short_passing               95\n",
       "volleys                     93\n",
       "dribbling                   97\n",
       "curve                       92\n",
       "free_kick_accuracy          97\n",
       "long_passing                95\n",
       "ball_control                93\n",
       "acceleration                86\n",
       "sprint_speed                85\n",
       "agility                     81\n",
       "reactions                   78\n",
       "balance                     81\n",
       "shot_power                  96\n",
       "jumping                     79\n",
       "stamina                     84\n",
       "strength                    82\n",
       "long_shots                  96\n",
       "aggression                  91\n",
       "interceptions               96\n",
       "positioning                 95\n",
       "vision                      97\n",
       "penalties                   94\n",
       "marking                     95\n",
       "standing_tackle             95\n",
       "sliding_tackle              94\n",
       "gk_diving                   93\n",
       "gk_handling                 90\n",
       "gk_kicking                  97\n",
       "gk_positioning              94\n",
       "gk_reflexes                 92\n",
       "dtype: int64"
      ]
     },
     "execution_count": 11,
     "metadata": {},
     "output_type": "execute_result"
    }
   ],
   "source": [
    "player.nunique()"
   ]
  },
  {
   "cell_type": "code",
   "execution_count": 12,
   "metadata": {},
   "outputs": [
    {
     "data": {
      "text/plain": [
       "id_x                       0\n",
       "player_api_id              0\n",
       "player_name                0\n",
       "player_fifa_api_id_x       0\n",
       "birthday                   0\n",
       "height                     0\n",
       "weight                     0\n",
       "id_y                       0\n",
       "player_fifa_api_id_y       0\n",
       "date                       0\n",
       "overall_rating           836\n",
       "potential                836\n",
       "preferred_foot           836\n",
       "attacking_work_rate     3230\n",
       "defensive_work_rate      836\n",
       "crossing                 836\n",
       "finishing                836\n",
       "heading_accuracy         836\n",
       "short_passing            836\n",
       "volleys                 2713\n",
       "dribbling                836\n",
       "curve                   2713\n",
       "free_kick_accuracy       836\n",
       "long_passing             836\n",
       "ball_control             836\n",
       "acceleration             836\n",
       "sprint_speed             836\n",
       "agility                 2713\n",
       "reactions                836\n",
       "balance                 2713\n",
       "shot_power               836\n",
       "jumping                 2713\n",
       "stamina                  836\n",
       "strength                 836\n",
       "long_shots               836\n",
       "aggression               836\n",
       "interceptions            836\n",
       "positioning              836\n",
       "vision                  2713\n",
       "penalties                836\n",
       "marking                  836\n",
       "standing_tackle          836\n",
       "sliding_tackle          2713\n",
       "gk_diving                836\n",
       "gk_handling              836\n",
       "gk_kicking               836\n",
       "gk_positioning           836\n",
       "gk_reflexes              836\n",
       "dtype: int64"
      ]
     },
     "execution_count": 12,
     "metadata": {},
     "output_type": "execute_result"
    }
   ],
   "source": [
    "player.isnull().sum()"
   ]
  },
  {
   "cell_type": "code",
   "execution_count": 13,
   "metadata": {},
   "outputs": [
    {
     "data": {
      "text/plain": [
       "<bound method DataFrame.info of          id_x  player_api_id         player_name  player_fifa_api_id_x  \\\n",
       "0           1         505942  Aaron Appindangoye                218353   \n",
       "1           1         505942  Aaron Appindangoye                218353   \n",
       "2           1         505942  Aaron Appindangoye                218353   \n",
       "3           1         505942  Aaron Appindangoye                218353   \n",
       "4           1         505942  Aaron Appindangoye                218353   \n",
       "...       ...            ...                 ...                   ...   \n",
       "183973  11075          39902  Zvjezdan Misimovic                102359   \n",
       "183974  11075          39902  Zvjezdan Misimovic                102359   \n",
       "183975  11075          39902  Zvjezdan Misimovic                102359   \n",
       "183976  11075          39902  Zvjezdan Misimovic                102359   \n",
       "183977  11075          39902  Zvjezdan Misimovic                102359   \n",
       "\n",
       "                   birthday  height  weight    id_y  player_fifa_api_id_y  \\\n",
       "0       1992-02-29 00:00:00  182.88     187       1                218353   \n",
       "1       1992-02-29 00:00:00  182.88     187       2                218353   \n",
       "2       1992-02-29 00:00:00  182.88     187       3                218353   \n",
       "3       1992-02-29 00:00:00  182.88     187       4                218353   \n",
       "4       1992-02-29 00:00:00  182.88     187       5                218353   \n",
       "...                     ...     ...     ...     ...                   ...   \n",
       "183973  1982-06-05 00:00:00  180.34     176  183974                102359   \n",
       "183974  1982-06-05 00:00:00  180.34     176  183975                102359   \n",
       "183975  1982-06-05 00:00:00  180.34     176  183976                102359   \n",
       "183976  1982-06-05 00:00:00  180.34     176  183977                102359   \n",
       "183977  1982-06-05 00:00:00  180.34     176  183978                102359   \n",
       "\n",
       "                       date  ...  vision  penalties marking standing_tackle  \\\n",
       "0       2016-02-18 00:00:00  ...    54.0       48.0    65.0            69.0   \n",
       "1       2015-11-19 00:00:00  ...    54.0       48.0    65.0            69.0   \n",
       "2       2015-09-21 00:00:00  ...    54.0       48.0    65.0            66.0   \n",
       "3       2015-03-20 00:00:00  ...    53.0       47.0    62.0            63.0   \n",
       "4       2007-02-22 00:00:00  ...    53.0       47.0    62.0            63.0   \n",
       "...                     ...  ...     ...        ...     ...             ...   \n",
       "183973  2009-08-30 00:00:00  ...    88.0       83.0    22.0            31.0   \n",
       "183974  2009-02-22 00:00:00  ...    88.0       70.0    32.0            31.0   \n",
       "183975  2008-08-30 00:00:00  ...    88.0       70.0    32.0            31.0   \n",
       "183976  2007-08-30 00:00:00  ...    88.0       53.0    28.0            32.0   \n",
       "183977  2007-02-22 00:00:00  ...    88.0       53.0    38.0            32.0   \n",
       "\n",
       "       sliding_tackle  gk_diving  gk_handling  gk_kicking  gk_positioning  \\\n",
       "0                69.0        6.0         11.0        10.0             8.0   \n",
       "1                69.0        6.0         11.0        10.0             8.0   \n",
       "2                69.0        6.0         11.0        10.0             8.0   \n",
       "3                66.0        5.0         10.0         9.0             7.0   \n",
       "4                66.0        5.0         10.0         9.0             7.0   \n",
       "...               ...        ...          ...         ...             ...   \n",
       "183973           30.0        9.0         20.0        84.0            20.0   \n",
       "183974           30.0        9.0         20.0        73.0            20.0   \n",
       "183975           30.0        9.0         20.0        73.0            20.0   \n",
       "183976           30.0        9.0         20.0        73.0            20.0   \n",
       "183977           30.0        9.0          9.0        78.0             7.0   \n",
       "\n",
       "        gk_reflexes  \n",
       "0               8.0  \n",
       "1               8.0  \n",
       "2               8.0  \n",
       "3               7.0  \n",
       "4               7.0  \n",
       "...             ...  \n",
       "183973         20.0  \n",
       "183974         20.0  \n",
       "183975         20.0  \n",
       "183976         20.0  \n",
       "183977         15.0  \n",
       "\n",
       "[183978 rows x 48 columns]>"
      ]
     },
     "execution_count": 13,
     "metadata": {},
     "output_type": "execute_result"
    }
   ],
   "source": [
    "player.info"
   ]
  },
  {
   "cell_type": "code",
   "execution_count": 14,
   "metadata": {},
   "outputs": [],
   "source": [
    "player.dropna(inplace = True)"
   ]
  },
  {
   "cell_type": "code",
   "execution_count": 15,
   "metadata": {},
   "outputs": [
    {
     "data": {
      "text/plain": [
       "<bound method DataFrame.info of          id_x  player_api_id         player_name  player_fifa_api_id_x  \\\n",
       "0           1         505942  Aaron Appindangoye                218353   \n",
       "1           1         505942  Aaron Appindangoye                218353   \n",
       "2           1         505942  Aaron Appindangoye                218353   \n",
       "3           1         505942  Aaron Appindangoye                218353   \n",
       "4           1         505942  Aaron Appindangoye                218353   \n",
       "...       ...            ...                 ...                   ...   \n",
       "183973  11075          39902  Zvjezdan Misimovic                102359   \n",
       "183974  11075          39902  Zvjezdan Misimovic                102359   \n",
       "183975  11075          39902  Zvjezdan Misimovic                102359   \n",
       "183976  11075          39902  Zvjezdan Misimovic                102359   \n",
       "183977  11075          39902  Zvjezdan Misimovic                102359   \n",
       "\n",
       "                   birthday  height  weight    id_y  player_fifa_api_id_y  \\\n",
       "0       1992-02-29 00:00:00  182.88     187       1                218353   \n",
       "1       1992-02-29 00:00:00  182.88     187       2                218353   \n",
       "2       1992-02-29 00:00:00  182.88     187       3                218353   \n",
       "3       1992-02-29 00:00:00  182.88     187       4                218353   \n",
       "4       1992-02-29 00:00:00  182.88     187       5                218353   \n",
       "...                     ...     ...     ...     ...                   ...   \n",
       "183973  1982-06-05 00:00:00  180.34     176  183974                102359   \n",
       "183974  1982-06-05 00:00:00  180.34     176  183975                102359   \n",
       "183975  1982-06-05 00:00:00  180.34     176  183976                102359   \n",
       "183976  1982-06-05 00:00:00  180.34     176  183977                102359   \n",
       "183977  1982-06-05 00:00:00  180.34     176  183978                102359   \n",
       "\n",
       "                       date  ...  vision  penalties marking standing_tackle  \\\n",
       "0       2016-02-18 00:00:00  ...    54.0       48.0    65.0            69.0   \n",
       "1       2015-11-19 00:00:00  ...    54.0       48.0    65.0            69.0   \n",
       "2       2015-09-21 00:00:00  ...    54.0       48.0    65.0            66.0   \n",
       "3       2015-03-20 00:00:00  ...    53.0       47.0    62.0            63.0   \n",
       "4       2007-02-22 00:00:00  ...    53.0       47.0    62.0            63.0   \n",
       "...                     ...  ...     ...        ...     ...             ...   \n",
       "183973  2009-08-30 00:00:00  ...    88.0       83.0    22.0            31.0   \n",
       "183974  2009-02-22 00:00:00  ...    88.0       70.0    32.0            31.0   \n",
       "183975  2008-08-30 00:00:00  ...    88.0       70.0    32.0            31.0   \n",
       "183976  2007-08-30 00:00:00  ...    88.0       53.0    28.0            32.0   \n",
       "183977  2007-02-22 00:00:00  ...    88.0       53.0    38.0            32.0   \n",
       "\n",
       "       sliding_tackle  gk_diving  gk_handling  gk_kicking  gk_positioning  \\\n",
       "0                69.0        6.0         11.0        10.0             8.0   \n",
       "1                69.0        6.0         11.0        10.0             8.0   \n",
       "2                69.0        6.0         11.0        10.0             8.0   \n",
       "3                66.0        5.0         10.0         9.0             7.0   \n",
       "4                66.0        5.0         10.0         9.0             7.0   \n",
       "...               ...        ...          ...         ...             ...   \n",
       "183973           30.0        9.0         20.0        84.0            20.0   \n",
       "183974           30.0        9.0         20.0        73.0            20.0   \n",
       "183975           30.0        9.0         20.0        73.0            20.0   \n",
       "183976           30.0        9.0         20.0        73.0            20.0   \n",
       "183977           30.0        9.0          9.0        78.0             7.0   \n",
       "\n",
       "        gk_reflexes  \n",
       "0               8.0  \n",
       "1               8.0  \n",
       "2               8.0  \n",
       "3               7.0  \n",
       "4               7.0  \n",
       "...             ...  \n",
       "183973         20.0  \n",
       "183974         20.0  \n",
       "183975         20.0  \n",
       "183976         20.0  \n",
       "183977         15.0  \n",
       "\n",
       "[180354 rows x 48 columns]>"
      ]
     },
     "execution_count": 15,
     "metadata": {},
     "output_type": "execute_result"
    }
   ],
   "source": [
    "player.info"
   ]
  },
  {
   "cell_type": "code",
   "execution_count": 16,
   "metadata": {},
   "outputs": [
    {
     "data": {
      "text/plain": [
       "id_x                    0\n",
       "player_api_id           0\n",
       "player_name             0\n",
       "player_fifa_api_id_x    0\n",
       "birthday                0\n",
       "height                  0\n",
       "weight                  0\n",
       "id_y                    0\n",
       "player_fifa_api_id_y    0\n",
       "date                    0\n",
       "overall_rating          0\n",
       "potential               0\n",
       "preferred_foot          0\n",
       "attacking_work_rate     0\n",
       "defensive_work_rate     0\n",
       "crossing                0\n",
       "finishing               0\n",
       "heading_accuracy        0\n",
       "short_passing           0\n",
       "volleys                 0\n",
       "dribbling               0\n",
       "curve                   0\n",
       "free_kick_accuracy      0\n",
       "long_passing            0\n",
       "ball_control            0\n",
       "acceleration            0\n",
       "sprint_speed            0\n",
       "agility                 0\n",
       "reactions               0\n",
       "balance                 0\n",
       "shot_power              0\n",
       "jumping                 0\n",
       "stamina                 0\n",
       "strength                0\n",
       "long_shots              0\n",
       "aggression              0\n",
       "interceptions           0\n",
       "positioning             0\n",
       "vision                  0\n",
       "penalties               0\n",
       "marking                 0\n",
       "standing_tackle         0\n",
       "sliding_tackle          0\n",
       "gk_diving               0\n",
       "gk_handling             0\n",
       "gk_kicking              0\n",
       "gk_positioning          0\n",
       "gk_reflexes             0\n",
       "dtype: int64"
      ]
     },
     "execution_count": 16,
     "metadata": {},
     "output_type": "execute_result"
    }
   ],
   "source": [
    "player.isnull().sum()"
   ]
  },
  {
   "cell_type": "code",
   "execution_count": 17,
   "metadata": {},
   "outputs": [
    {
     "data": {
      "text/html": [
       "<div>\n",
       "<style scoped>\n",
       "    .dataframe tbody tr th:only-of-type {\n",
       "        vertical-align: middle;\n",
       "    }\n",
       "\n",
       "    .dataframe tbody tr th {\n",
       "        vertical-align: top;\n",
       "    }\n",
       "\n",
       "    .dataframe thead th {\n",
       "        text-align: right;\n",
       "    }\n",
       "</style>\n",
       "<table border=\"1\" class=\"dataframe\">\n",
       "  <thead>\n",
       "    <tr style=\"text-align: right;\">\n",
       "      <th></th>\n",
       "      <th>id_x</th>\n",
       "      <th>player_api_id</th>\n",
       "      <th>player_fifa_api_id_x</th>\n",
       "      <th>height</th>\n",
       "      <th>weight</th>\n",
       "      <th>id_y</th>\n",
       "      <th>player_fifa_api_id_y</th>\n",
       "      <th>overall_rating</th>\n",
       "      <th>potential</th>\n",
       "      <th>crossing</th>\n",
       "      <th>...</th>\n",
       "      <th>vision</th>\n",
       "      <th>penalties</th>\n",
       "      <th>marking</th>\n",
       "      <th>standing_tackle</th>\n",
       "      <th>sliding_tackle</th>\n",
       "      <th>gk_diving</th>\n",
       "      <th>gk_handling</th>\n",
       "      <th>gk_kicking</th>\n",
       "      <th>gk_positioning</th>\n",
       "      <th>gk_reflexes</th>\n",
       "    </tr>\n",
       "  </thead>\n",
       "  <tbody>\n",
       "    <tr>\n",
       "      <th>count</th>\n",
       "      <td>180354.000000</td>\n",
       "      <td>180354.000000</td>\n",
       "      <td>180354.000000</td>\n",
       "      <td>180354.000000</td>\n",
       "      <td>180354.000000</td>\n",
       "      <td>180354.000000</td>\n",
       "      <td>180354.000000</td>\n",
       "      <td>180354.000000</td>\n",
       "      <td>180354.000000</td>\n",
       "      <td>180354.000000</td>\n",
       "      <td>...</td>\n",
       "      <td>180354.000000</td>\n",
       "      <td>180354.000000</td>\n",
       "      <td>180354.000000</td>\n",
       "      <td>180354.000000</td>\n",
       "      <td>180354.000000</td>\n",
       "      <td>180354.000000</td>\n",
       "      <td>180354.000000</td>\n",
       "      <td>180354.000000</td>\n",
       "      <td>180354.000000</td>\n",
       "      <td>180354.00000</td>\n",
       "    </tr>\n",
       "    <tr>\n",
       "      <th>mean</th>\n",
       "      <td>5520.609207</td>\n",
       "      <td>137653.145514</td>\n",
       "      <td>166805.312530</td>\n",
       "      <td>181.877895</td>\n",
       "      <td>168.774593</td>\n",
       "      <td>91995.886274</td>\n",
       "      <td>166822.125803</td>\n",
       "      <td>68.635317</td>\n",
       "      <td>73.479457</td>\n",
       "      <td>55.142071</td>\n",
       "      <td>...</td>\n",
       "      <td>57.868176</td>\n",
       "      <td>54.933448</td>\n",
       "      <td>46.757433</td>\n",
       "      <td>50.354065</td>\n",
       "      <td>48.029342</td>\n",
       "      <td>14.696685</td>\n",
       "      <td>15.947786</td>\n",
       "      <td>20.526304</td>\n",
       "      <td>16.015043</td>\n",
       "      <td>16.32531</td>\n",
       "    </tr>\n",
       "    <tr>\n",
       "      <th>std</th>\n",
       "      <td>3190.378836</td>\n",
       "      <td>137599.735284</td>\n",
       "      <td>52825.971635</td>\n",
       "      <td>6.398588</td>\n",
       "      <td>15.098388</td>\n",
       "      <td>53092.657914</td>\n",
       "      <td>52821.443279</td>\n",
       "      <td>7.027950</td>\n",
       "      <td>6.581963</td>\n",
       "      <td>17.247231</td>\n",
       "      <td>...</td>\n",
       "      <td>15.152408</td>\n",
       "      <td>15.556645</td>\n",
       "      <td>21.226730</td>\n",
       "      <td>21.496289</td>\n",
       "      <td>21.592830</td>\n",
       "      <td>16.841454</td>\n",
       "      <td>15.841297</td>\n",
       "      <td>21.143898</td>\n",
       "      <td>16.070772</td>\n",
       "      <td>17.18545</td>\n",
       "    </tr>\n",
       "    <tr>\n",
       "      <th>min</th>\n",
       "      <td>1.000000</td>\n",
       "      <td>2625.000000</td>\n",
       "      <td>2.000000</td>\n",
       "      <td>157.480000</td>\n",
       "      <td>117.000000</td>\n",
       "      <td>1.000000</td>\n",
       "      <td>2.000000</td>\n",
       "      <td>33.000000</td>\n",
       "      <td>39.000000</td>\n",
       "      <td>1.000000</td>\n",
       "      <td>...</td>\n",
       "      <td>1.000000</td>\n",
       "      <td>2.000000</td>\n",
       "      <td>1.000000</td>\n",
       "      <td>1.000000</td>\n",
       "      <td>2.000000</td>\n",
       "      <td>1.000000</td>\n",
       "      <td>1.000000</td>\n",
       "      <td>1.000000</td>\n",
       "      <td>1.000000</td>\n",
       "      <td>1.00000</td>\n",
       "    </tr>\n",
       "    <tr>\n",
       "      <th>25%</th>\n",
       "      <td>2758.000000</td>\n",
       "      <td>35451.000000</td>\n",
       "      <td>156593.000000</td>\n",
       "      <td>177.800000</td>\n",
       "      <td>159.000000</td>\n",
       "      <td>46074.250000</td>\n",
       "      <td>156616.000000</td>\n",
       "      <td>64.000000</td>\n",
       "      <td>69.000000</td>\n",
       "      <td>45.000000</td>\n",
       "      <td>...</td>\n",
       "      <td>49.000000</td>\n",
       "      <td>45.000000</td>\n",
       "      <td>25.000000</td>\n",
       "      <td>29.000000</td>\n",
       "      <td>25.000000</td>\n",
       "      <td>7.000000</td>\n",
       "      <td>8.000000</td>\n",
       "      <td>8.000000</td>\n",
       "      <td>8.000000</td>\n",
       "      <td>8.00000</td>\n",
       "    </tr>\n",
       "    <tr>\n",
       "      <th>50%</th>\n",
       "      <td>5533.000000</td>\n",
       "      <td>80291.000000</td>\n",
       "      <td>183774.000000</td>\n",
       "      <td>182.880000</td>\n",
       "      <td>168.000000</td>\n",
       "      <td>92003.500000</td>\n",
       "      <td>183792.000000</td>\n",
       "      <td>69.000000</td>\n",
       "      <td>74.000000</td>\n",
       "      <td>59.000000</td>\n",
       "      <td>...</td>\n",
       "      <td>60.000000</td>\n",
       "      <td>57.000000</td>\n",
       "      <td>50.000000</td>\n",
       "      <td>56.000000</td>\n",
       "      <td>53.000000</td>\n",
       "      <td>10.000000</td>\n",
       "      <td>11.000000</td>\n",
       "      <td>12.000000</td>\n",
       "      <td>11.000000</td>\n",
       "      <td>11.00000</td>\n",
       "    </tr>\n",
       "    <tr>\n",
       "      <th>75%</th>\n",
       "      <td>8253.000000</td>\n",
       "      <td>192841.000000</td>\n",
       "      <td>200130.000000</td>\n",
       "      <td>185.420000</td>\n",
       "      <td>179.000000</td>\n",
       "      <td>137935.750000</td>\n",
       "      <td>200138.000000</td>\n",
       "      <td>73.000000</td>\n",
       "      <td>78.000000</td>\n",
       "      <td>68.000000</td>\n",
       "      <td>...</td>\n",
       "      <td>69.000000</td>\n",
       "      <td>67.000000</td>\n",
       "      <td>66.000000</td>\n",
       "      <td>69.000000</td>\n",
       "      <td>67.000000</td>\n",
       "      <td>13.000000</td>\n",
       "      <td>15.000000</td>\n",
       "      <td>15.000000</td>\n",
       "      <td>15.000000</td>\n",
       "      <td>15.00000</td>\n",
       "    </tr>\n",
       "    <tr>\n",
       "      <th>max</th>\n",
       "      <td>11075.000000</td>\n",
       "      <td>750584.000000</td>\n",
       "      <td>234141.000000</td>\n",
       "      <td>208.280000</td>\n",
       "      <td>243.000000</td>\n",
       "      <td>183978.000000</td>\n",
       "      <td>234141.000000</td>\n",
       "      <td>94.000000</td>\n",
       "      <td>97.000000</td>\n",
       "      <td>95.000000</td>\n",
       "      <td>...</td>\n",
       "      <td>97.000000</td>\n",
       "      <td>96.000000</td>\n",
       "      <td>94.000000</td>\n",
       "      <td>95.000000</td>\n",
       "      <td>95.000000</td>\n",
       "      <td>94.000000</td>\n",
       "      <td>93.000000</td>\n",
       "      <td>97.000000</td>\n",
       "      <td>96.000000</td>\n",
       "      <td>96.00000</td>\n",
       "    </tr>\n",
       "  </tbody>\n",
       "</table>\n",
       "<p>8 rows × 42 columns</p>\n",
       "</div>"
      ],
      "text/plain": [
       "                id_x  player_api_id  player_fifa_api_id_x         height  \\\n",
       "count  180354.000000  180354.000000         180354.000000  180354.000000   \n",
       "mean     5520.609207  137653.145514         166805.312530     181.877895   \n",
       "std      3190.378836  137599.735284          52825.971635       6.398588   \n",
       "min         1.000000    2625.000000              2.000000     157.480000   \n",
       "25%      2758.000000   35451.000000         156593.000000     177.800000   \n",
       "50%      5533.000000   80291.000000         183774.000000     182.880000   \n",
       "75%      8253.000000  192841.000000         200130.000000     185.420000   \n",
       "max     11075.000000  750584.000000         234141.000000     208.280000   \n",
       "\n",
       "              weight           id_y  player_fifa_api_id_y  overall_rating  \\\n",
       "count  180354.000000  180354.000000         180354.000000   180354.000000   \n",
       "mean      168.774593   91995.886274         166822.125803       68.635317   \n",
       "std        15.098388   53092.657914          52821.443279        7.027950   \n",
       "min       117.000000       1.000000              2.000000       33.000000   \n",
       "25%       159.000000   46074.250000         156616.000000       64.000000   \n",
       "50%       168.000000   92003.500000         183792.000000       69.000000   \n",
       "75%       179.000000  137935.750000         200138.000000       73.000000   \n",
       "max       243.000000  183978.000000         234141.000000       94.000000   \n",
       "\n",
       "           potential       crossing  ...         vision      penalties  \\\n",
       "count  180354.000000  180354.000000  ...  180354.000000  180354.000000   \n",
       "mean       73.479457      55.142071  ...      57.868176      54.933448   \n",
       "std         6.581963      17.247231  ...      15.152408      15.556645   \n",
       "min        39.000000       1.000000  ...       1.000000       2.000000   \n",
       "25%        69.000000      45.000000  ...      49.000000      45.000000   \n",
       "50%        74.000000      59.000000  ...      60.000000      57.000000   \n",
       "75%        78.000000      68.000000  ...      69.000000      67.000000   \n",
       "max        97.000000      95.000000  ...      97.000000      96.000000   \n",
       "\n",
       "             marking  standing_tackle  sliding_tackle      gk_diving  \\\n",
       "count  180354.000000    180354.000000   180354.000000  180354.000000   \n",
       "mean       46.757433        50.354065       48.029342      14.696685   \n",
       "std        21.226730        21.496289       21.592830      16.841454   \n",
       "min         1.000000         1.000000        2.000000       1.000000   \n",
       "25%        25.000000        29.000000       25.000000       7.000000   \n",
       "50%        50.000000        56.000000       53.000000      10.000000   \n",
       "75%        66.000000        69.000000       67.000000      13.000000   \n",
       "max        94.000000        95.000000       95.000000      94.000000   \n",
       "\n",
       "         gk_handling     gk_kicking  gk_positioning   gk_reflexes  \n",
       "count  180354.000000  180354.000000   180354.000000  180354.00000  \n",
       "mean       15.947786      20.526304       16.015043      16.32531  \n",
       "std        15.841297      21.143898       16.070772      17.18545  \n",
       "min         1.000000       1.000000        1.000000       1.00000  \n",
       "25%         8.000000       8.000000        8.000000       8.00000  \n",
       "50%        11.000000      12.000000       11.000000      11.00000  \n",
       "75%        15.000000      15.000000       15.000000      15.00000  \n",
       "max        93.000000      97.000000       96.000000      96.00000  \n",
       "\n",
       "[8 rows x 42 columns]"
      ]
     },
     "execution_count": 17,
     "metadata": {},
     "output_type": "execute_result"
    }
   ],
   "source": [
    "player.describe()"
   ]
  },
  {
   "cell_type": "code",
   "execution_count": 18,
   "metadata": {},
   "outputs": [
    {
     "data": {
      "text/plain": [
       "False"
      ]
     },
     "execution_count": 18,
     "metadata": {},
     "output_type": "execute_result"
    }
   ],
   "source": [
    "player.duplicated().any()"
   ]
  },
  {
   "cell_type": "code",
   "execution_count": 19,
   "metadata": {},
   "outputs": [
    {
     "data": {
      "text/plain": [
       "0"
      ]
     },
     "execution_count": 19,
     "metadata": {},
     "output_type": "execute_result"
    }
   ],
   "source": [
    "player.duplicated().sum()"
   ]
  },
  {
   "cell_type": "code",
   "execution_count": 20,
   "metadata": {},
   "outputs": [
    {
     "data": {
      "text/plain": [
       "Index([], dtype='object')"
      ]
     },
     "execution_count": 20,
     "metadata": {},
     "output_type": "execute_result"
    }
   ],
   "source": [
    "#columns that have missing values\n",
    "player.columns[player.isnull().any()]"
   ]
  },
  {
   "cell_type": "markdown",
   "metadata": {},
   "source": [
    "# 4. Exploratory Data Analysis on Team dataset"
   ]
  },
  {
   "cell_type": "code",
   "execution_count": 21,
   "metadata": {},
   "outputs": [
    {
     "data": {
      "text/html": [
       "<div>\n",
       "<style scoped>\n",
       "    .dataframe tbody tr th:only-of-type {\n",
       "        vertical-align: middle;\n",
       "    }\n",
       "\n",
       "    .dataframe tbody tr th {\n",
       "        vertical-align: top;\n",
       "    }\n",
       "\n",
       "    .dataframe thead th {\n",
       "        text-align: right;\n",
       "    }\n",
       "</style>\n",
       "<table border=\"1\" class=\"dataframe\">\n",
       "  <thead>\n",
       "    <tr style=\"text-align: right;\">\n",
       "      <th></th>\n",
       "      <th>id_x</th>\n",
       "      <th>team_api_id</th>\n",
       "      <th>team_fifa_api_id_x</th>\n",
       "      <th>team_long_name</th>\n",
       "      <th>team_short_name</th>\n",
       "      <th>id_y</th>\n",
       "      <th>team_fifa_api_id_y</th>\n",
       "      <th>date</th>\n",
       "      <th>buildUpPlaySpeed</th>\n",
       "      <th>buildUpPlaySpeedClass</th>\n",
       "      <th>...</th>\n",
       "      <th>chanceCreationShooting</th>\n",
       "      <th>chanceCreationShootingClass</th>\n",
       "      <th>chanceCreationPositioningClass</th>\n",
       "      <th>defencePressure</th>\n",
       "      <th>defencePressureClass</th>\n",
       "      <th>defenceAggression</th>\n",
       "      <th>defenceAggressionClass</th>\n",
       "      <th>defenceTeamWidth</th>\n",
       "      <th>defenceTeamWidthClass</th>\n",
       "      <th>defenceDefenderLineClass</th>\n",
       "    </tr>\n",
       "  </thead>\n",
       "  <tbody>\n",
       "    <tr>\n",
       "      <th>0</th>\n",
       "      <td>1</td>\n",
       "      <td>9987</td>\n",
       "      <td>673.0</td>\n",
       "      <td>KRC Genk</td>\n",
       "      <td>GEN</td>\n",
       "      <td>485</td>\n",
       "      <td>673</td>\n",
       "      <td>2010-02-22 00:00:00</td>\n",
       "      <td>45</td>\n",
       "      <td>Balanced</td>\n",
       "      <td>...</td>\n",
       "      <td>60</td>\n",
       "      <td>Normal</td>\n",
       "      <td>Organised</td>\n",
       "      <td>70</td>\n",
       "      <td>High</td>\n",
       "      <td>65</td>\n",
       "      <td>Press</td>\n",
       "      <td>70</td>\n",
       "      <td>Wide</td>\n",
       "      <td>Cover</td>\n",
       "    </tr>\n",
       "    <tr>\n",
       "      <th>1</th>\n",
       "      <td>1</td>\n",
       "      <td>9987</td>\n",
       "      <td>673.0</td>\n",
       "      <td>KRC Genk</td>\n",
       "      <td>GEN</td>\n",
       "      <td>486</td>\n",
       "      <td>673</td>\n",
       "      <td>2011-02-22 00:00:00</td>\n",
       "      <td>66</td>\n",
       "      <td>Balanced</td>\n",
       "      <td>...</td>\n",
       "      <td>51</td>\n",
       "      <td>Normal</td>\n",
       "      <td>Organised</td>\n",
       "      <td>48</td>\n",
       "      <td>Medium</td>\n",
       "      <td>47</td>\n",
       "      <td>Press</td>\n",
       "      <td>54</td>\n",
       "      <td>Normal</td>\n",
       "      <td>Offside Trap</td>\n",
       "    </tr>\n",
       "    <tr>\n",
       "      <th>2</th>\n",
       "      <td>1</td>\n",
       "      <td>9987</td>\n",
       "      <td>673.0</td>\n",
       "      <td>KRC Genk</td>\n",
       "      <td>GEN</td>\n",
       "      <td>487</td>\n",
       "      <td>673</td>\n",
       "      <td>2012-02-22 00:00:00</td>\n",
       "      <td>53</td>\n",
       "      <td>Balanced</td>\n",
       "      <td>...</td>\n",
       "      <td>56</td>\n",
       "      <td>Normal</td>\n",
       "      <td>Organised</td>\n",
       "      <td>47</td>\n",
       "      <td>Medium</td>\n",
       "      <td>45</td>\n",
       "      <td>Press</td>\n",
       "      <td>55</td>\n",
       "      <td>Normal</td>\n",
       "      <td>Cover</td>\n",
       "    </tr>\n",
       "    <tr>\n",
       "      <th>3</th>\n",
       "      <td>1</td>\n",
       "      <td>9987</td>\n",
       "      <td>673.0</td>\n",
       "      <td>KRC Genk</td>\n",
       "      <td>GEN</td>\n",
       "      <td>488</td>\n",
       "      <td>673</td>\n",
       "      <td>2013-09-20 00:00:00</td>\n",
       "      <td>58</td>\n",
       "      <td>Balanced</td>\n",
       "      <td>...</td>\n",
       "      <td>56</td>\n",
       "      <td>Normal</td>\n",
       "      <td>Organised</td>\n",
       "      <td>47</td>\n",
       "      <td>Medium</td>\n",
       "      <td>45</td>\n",
       "      <td>Press</td>\n",
       "      <td>55</td>\n",
       "      <td>Normal</td>\n",
       "      <td>Cover</td>\n",
       "    </tr>\n",
       "    <tr>\n",
       "      <th>4</th>\n",
       "      <td>1</td>\n",
       "      <td>9987</td>\n",
       "      <td>673.0</td>\n",
       "      <td>KRC Genk</td>\n",
       "      <td>GEN</td>\n",
       "      <td>489</td>\n",
       "      <td>673</td>\n",
       "      <td>2014-09-19 00:00:00</td>\n",
       "      <td>58</td>\n",
       "      <td>Balanced</td>\n",
       "      <td>...</td>\n",
       "      <td>56</td>\n",
       "      <td>Normal</td>\n",
       "      <td>Organised</td>\n",
       "      <td>47</td>\n",
       "      <td>Medium</td>\n",
       "      <td>45</td>\n",
       "      <td>Press</td>\n",
       "      <td>55</td>\n",
       "      <td>Normal</td>\n",
       "      <td>Cover</td>\n",
       "    </tr>\n",
       "  </tbody>\n",
       "</table>\n",
       "<p>5 rows × 29 columns</p>\n",
       "</div>"
      ],
      "text/plain": [
       "   id_x  team_api_id  team_fifa_api_id_x team_long_name team_short_name  id_y  \\\n",
       "0     1         9987               673.0       KRC Genk             GEN   485   \n",
       "1     1         9987               673.0       KRC Genk             GEN   486   \n",
       "2     1         9987               673.0       KRC Genk             GEN   487   \n",
       "3     1         9987               673.0       KRC Genk             GEN   488   \n",
       "4     1         9987               673.0       KRC Genk             GEN   489   \n",
       "\n",
       "   team_fifa_api_id_y                 date  buildUpPlaySpeed  \\\n",
       "0                 673  2010-02-22 00:00:00                45   \n",
       "1                 673  2011-02-22 00:00:00                66   \n",
       "2                 673  2012-02-22 00:00:00                53   \n",
       "3                 673  2013-09-20 00:00:00                58   \n",
       "4                 673  2014-09-19 00:00:00                58   \n",
       "\n",
       "  buildUpPlaySpeedClass  ...  chanceCreationShooting  \\\n",
       "0              Balanced  ...                      60   \n",
       "1              Balanced  ...                      51   \n",
       "2              Balanced  ...                      56   \n",
       "3              Balanced  ...                      56   \n",
       "4              Balanced  ...                      56   \n",
       "\n",
       "  chanceCreationShootingClass  chanceCreationPositioningClass defencePressure  \\\n",
       "0                      Normal                       Organised              70   \n",
       "1                      Normal                       Organised              48   \n",
       "2                      Normal                       Organised              47   \n",
       "3                      Normal                       Organised              47   \n",
       "4                      Normal                       Organised              47   \n",
       "\n",
       "  defencePressureClass  defenceAggression defenceAggressionClass  \\\n",
       "0                 High                 65                  Press   \n",
       "1               Medium                 47                  Press   \n",
       "2               Medium                 45                  Press   \n",
       "3               Medium                 45                  Press   \n",
       "4               Medium                 45                  Press   \n",
       "\n",
       "   defenceTeamWidth defenceTeamWidthClass  defenceDefenderLineClass  \n",
       "0                70                  Wide                     Cover  \n",
       "1                54                Normal              Offside Trap  \n",
       "2                55                Normal                     Cover  \n",
       "3                55                Normal                     Cover  \n",
       "4                55                Normal                     Cover  \n",
       "\n",
       "[5 rows x 29 columns]"
      ]
     },
     "execution_count": 21,
     "metadata": {},
     "output_type": "execute_result"
    }
   ],
   "source": [
    "Team.head()"
   ]
  },
  {
   "cell_type": "code",
   "execution_count": 22,
   "metadata": {},
   "outputs": [
    {
     "data": {
      "text/plain": [
       "(1458, 29)"
      ]
     },
     "execution_count": 22,
     "metadata": {},
     "output_type": "execute_result"
    }
   ],
   "source": [
    "Team.shape"
   ]
  },
  {
   "cell_type": "code",
   "execution_count": 23,
   "metadata": {},
   "outputs": [
    {
     "data": {
      "text/plain": [
       "id_x                               288\n",
       "team_api_id                        288\n",
       "team_fifa_api_id_x                 285\n",
       "team_long_name                     285\n",
       "team_short_name                    251\n",
       "id_y                              1458\n",
       "team_fifa_api_id_y                 285\n",
       "date                                 6\n",
       "buildUpPlaySpeed                    57\n",
       "buildUpPlaySpeedClass                3\n",
       "buildUpPlayDribbling                49\n",
       "buildUpPlayDribblingClass            3\n",
       "buildUpPlayPassing                  58\n",
       "buildUpPlayPassingClass              3\n",
       "buildUpPlayPositioningClass          2\n",
       "chanceCreationPassing               50\n",
       "chanceCreationPassingClass           3\n",
       "chanceCreationCrossing              56\n",
       "chanceCreationCrossingClass          3\n",
       "chanceCreationShooting              57\n",
       "chanceCreationShootingClass          3\n",
       "chanceCreationPositioningClass       2\n",
       "defencePressure                     48\n",
       "defencePressureClass                 3\n",
       "defenceAggression                   47\n",
       "defenceAggressionClass               3\n",
       "defenceTeamWidth                    43\n",
       "defenceTeamWidthClass                3\n",
       "defenceDefenderLineClass             2\n",
       "dtype: int64"
      ]
     },
     "execution_count": 23,
     "metadata": {},
     "output_type": "execute_result"
    }
   ],
   "source": [
    "Team.nunique()"
   ]
  },
  {
   "cell_type": "code",
   "execution_count": 24,
   "metadata": {},
   "outputs": [
    {
     "data": {
      "text/plain": [
       "id_x                                0\n",
       "team_api_id                         0\n",
       "team_fifa_api_id_x                  0\n",
       "team_long_name                      0\n",
       "team_short_name                     0\n",
       "id_y                                0\n",
       "team_fifa_api_id_y                  0\n",
       "date                                0\n",
       "buildUpPlaySpeed                    0\n",
       "buildUpPlaySpeedClass               0\n",
       "buildUpPlayDribbling              969\n",
       "buildUpPlayDribblingClass           0\n",
       "buildUpPlayPassing                  0\n",
       "buildUpPlayPassingClass             0\n",
       "buildUpPlayPositioningClass         0\n",
       "chanceCreationPassing               0\n",
       "chanceCreationPassingClass          0\n",
       "chanceCreationCrossing              0\n",
       "chanceCreationCrossingClass         0\n",
       "chanceCreationShooting              0\n",
       "chanceCreationShootingClass         0\n",
       "chanceCreationPositioningClass      0\n",
       "defencePressure                     0\n",
       "defencePressureClass                0\n",
       "defenceAggression                   0\n",
       "defenceAggressionClass              0\n",
       "defenceTeamWidth                    0\n",
       "defenceTeamWidthClass               0\n",
       "defenceDefenderLineClass            0\n",
       "dtype: int64"
      ]
     },
     "execution_count": 24,
     "metadata": {},
     "output_type": "execute_result"
    }
   ],
   "source": [
    "Team.isnull().sum()"
   ]
  },
  {
   "cell_type": "code",
   "execution_count": 25,
   "metadata": {},
   "outputs": [
    {
     "name": "stdout",
     "output_type": "stream",
     "text": [
      "<class 'pandas.core.frame.DataFrame'>\n",
      "Int64Index: 1458 entries, 0 to 1457\n",
      "Data columns (total 29 columns):\n",
      " #   Column                          Non-Null Count  Dtype  \n",
      "---  ------                          --------------  -----  \n",
      " 0   id_x                            1458 non-null   int64  \n",
      " 1   team_api_id                     1458 non-null   int64  \n",
      " 2   team_fifa_api_id_x              1458 non-null   float64\n",
      " 3   team_long_name                  1458 non-null   object \n",
      " 4   team_short_name                 1458 non-null   object \n",
      " 5   id_y                            1458 non-null   int64  \n",
      " 6   team_fifa_api_id_y              1458 non-null   int64  \n",
      " 7   date                            1458 non-null   object \n",
      " 8   buildUpPlaySpeed                1458 non-null   int64  \n",
      " 9   buildUpPlaySpeedClass           1458 non-null   object \n",
      " 10  buildUpPlayDribbling            489 non-null    float64\n",
      " 11  buildUpPlayDribblingClass       1458 non-null   object \n",
      " 12  buildUpPlayPassing              1458 non-null   int64  \n",
      " 13  buildUpPlayPassingClass         1458 non-null   object \n",
      " 14  buildUpPlayPositioningClass     1458 non-null   object \n",
      " 15  chanceCreationPassing           1458 non-null   int64  \n",
      " 16  chanceCreationPassingClass      1458 non-null   object \n",
      " 17  chanceCreationCrossing          1458 non-null   int64  \n",
      " 18  chanceCreationCrossingClass     1458 non-null   object \n",
      " 19  chanceCreationShooting          1458 non-null   int64  \n",
      " 20  chanceCreationShootingClass     1458 non-null   object \n",
      " 21  chanceCreationPositioningClass  1458 non-null   object \n",
      " 22  defencePressure                 1458 non-null   int64  \n",
      " 23  defencePressureClass            1458 non-null   object \n",
      " 24  defenceAggression               1458 non-null   int64  \n",
      " 25  defenceAggressionClass          1458 non-null   object \n",
      " 26  defenceTeamWidth                1458 non-null   int64  \n",
      " 27  defenceTeamWidthClass           1458 non-null   object \n",
      " 28  defenceDefenderLineClass        1458 non-null   object \n",
      "dtypes: float64(2), int64(12), object(15)\n",
      "memory usage: 341.7+ KB\n"
     ]
    }
   ],
   "source": [
    "Team.info()"
   ]
  },
  {
   "cell_type": "code",
   "execution_count": 26,
   "metadata": {},
   "outputs": [],
   "source": [
    "Team.dropna(inplace = True)"
   ]
  },
  {
   "cell_type": "code",
   "execution_count": 27,
   "metadata": {},
   "outputs": [
    {
     "name": "stdout",
     "output_type": "stream",
     "text": [
      "<class 'pandas.core.frame.DataFrame'>\n",
      "Int64Index: 489 entries, 4 to 1457\n",
      "Data columns (total 29 columns):\n",
      " #   Column                          Non-Null Count  Dtype  \n",
      "---  ------                          --------------  -----  \n",
      " 0   id_x                            489 non-null    int64  \n",
      " 1   team_api_id                     489 non-null    int64  \n",
      " 2   team_fifa_api_id_x              489 non-null    float64\n",
      " 3   team_long_name                  489 non-null    object \n",
      " 4   team_short_name                 489 non-null    object \n",
      " 5   id_y                            489 non-null    int64  \n",
      " 6   team_fifa_api_id_y              489 non-null    int64  \n",
      " 7   date                            489 non-null    object \n",
      " 8   buildUpPlaySpeed                489 non-null    int64  \n",
      " 9   buildUpPlaySpeedClass           489 non-null    object \n",
      " 10  buildUpPlayDribbling            489 non-null    float64\n",
      " 11  buildUpPlayDribblingClass       489 non-null    object \n",
      " 12  buildUpPlayPassing              489 non-null    int64  \n",
      " 13  buildUpPlayPassingClass         489 non-null    object \n",
      " 14  buildUpPlayPositioningClass     489 non-null    object \n",
      " 15  chanceCreationPassing           489 non-null    int64  \n",
      " 16  chanceCreationPassingClass      489 non-null    object \n",
      " 17  chanceCreationCrossing          489 non-null    int64  \n",
      " 18  chanceCreationCrossingClass     489 non-null    object \n",
      " 19  chanceCreationShooting          489 non-null    int64  \n",
      " 20  chanceCreationShootingClass     489 non-null    object \n",
      " 21  chanceCreationPositioningClass  489 non-null    object \n",
      " 22  defencePressure                 489 non-null    int64  \n",
      " 23  defencePressureClass            489 non-null    object \n",
      " 24  defenceAggression               489 non-null    int64  \n",
      " 25  defenceAggressionClass          489 non-null    object \n",
      " 26  defenceTeamWidth                489 non-null    int64  \n",
      " 27  defenceTeamWidthClass           489 non-null    object \n",
      " 28  defenceDefenderLineClass        489 non-null    object \n",
      "dtypes: float64(2), int64(12), object(15)\n",
      "memory usage: 114.6+ KB\n"
     ]
    }
   ],
   "source": [
    "Team.info()"
   ]
  },
  {
   "cell_type": "code",
   "execution_count": 28,
   "metadata": {},
   "outputs": [
    {
     "data": {
      "text/html": [
       "<div>\n",
       "<style scoped>\n",
       "    .dataframe tbody tr th:only-of-type {\n",
       "        vertical-align: middle;\n",
       "    }\n",
       "\n",
       "    .dataframe tbody tr th {\n",
       "        vertical-align: top;\n",
       "    }\n",
       "\n",
       "    .dataframe thead th {\n",
       "        text-align: right;\n",
       "    }\n",
       "</style>\n",
       "<table border=\"1\" class=\"dataframe\">\n",
       "  <thead>\n",
       "    <tr style=\"text-align: right;\">\n",
       "      <th></th>\n",
       "      <th>id_x</th>\n",
       "      <th>team_api_id</th>\n",
       "      <th>team_fifa_api_id_x</th>\n",
       "      <th>id_y</th>\n",
       "      <th>team_fifa_api_id_y</th>\n",
       "      <th>buildUpPlaySpeed</th>\n",
       "      <th>buildUpPlayDribbling</th>\n",
       "      <th>buildUpPlayPassing</th>\n",
       "      <th>chanceCreationPassing</th>\n",
       "      <th>chanceCreationCrossing</th>\n",
       "      <th>chanceCreationShooting</th>\n",
       "      <th>defencePressure</th>\n",
       "      <th>defenceAggression</th>\n",
       "      <th>defenceTeamWidth</th>\n",
       "    </tr>\n",
       "  </thead>\n",
       "  <tbody>\n",
       "    <tr>\n",
       "      <th>count</th>\n",
       "      <td>489.000000</td>\n",
       "      <td>489.000000</td>\n",
       "      <td>489.000000</td>\n",
       "      <td>489.000000</td>\n",
       "      <td>489.000000</td>\n",
       "      <td>489.000000</td>\n",
       "      <td>489.000000</td>\n",
       "      <td>489.000000</td>\n",
       "      <td>489.000000</td>\n",
       "      <td>489.000000</td>\n",
       "      <td>489.000000</td>\n",
       "      <td>489.000000</td>\n",
       "      <td>489.000000</td>\n",
       "      <td>489.000000</td>\n",
       "    </tr>\n",
       "    <tr>\n",
       "      <th>mean</th>\n",
       "      <td>22771.777096</td>\n",
       "      <td>11301.245399</td>\n",
       "      <td>19274.509202</td>\n",
       "      <td>722.826176</td>\n",
       "      <td>19274.509202</td>\n",
       "      <td>54.100204</td>\n",
       "      <td>48.607362</td>\n",
       "      <td>49.372188</td>\n",
       "      <td>52.584867</td>\n",
       "      <td>53.094070</td>\n",
       "      <td>51.331288</td>\n",
       "      <td>45.233129</td>\n",
       "      <td>48.490798</td>\n",
       "      <td>51.611452</td>\n",
       "    </tr>\n",
       "    <tr>\n",
       "      <th>std</th>\n",
       "      <td>15054.945518</td>\n",
       "      <td>20902.931896</td>\n",
       "      <td>40697.893854</td>\n",
       "      <td>419.343252</td>\n",
       "      <td>40697.893854</td>\n",
       "      <td>9.791901</td>\n",
       "      <td>9.678290</td>\n",
       "      <td>10.271146</td>\n",
       "      <td>9.895637</td>\n",
       "      <td>9.938507</td>\n",
       "      <td>10.195058</td>\n",
       "      <td>8.877978</td>\n",
       "      <td>7.926689</td>\n",
       "      <td>7.573164</td>\n",
       "    </tr>\n",
       "    <tr>\n",
       "      <th>min</th>\n",
       "      <td>1.000000</td>\n",
       "      <td>1601.000000</td>\n",
       "      <td>1.000000</td>\n",
       "      <td>2.000000</td>\n",
       "      <td>1.000000</td>\n",
       "      <td>26.000000</td>\n",
       "      <td>24.000000</td>\n",
       "      <td>20.000000</td>\n",
       "      <td>21.000000</td>\n",
       "      <td>23.000000</td>\n",
       "      <td>22.000000</td>\n",
       "      <td>23.000000</td>\n",
       "      <td>24.000000</td>\n",
       "      <td>29.000000</td>\n",
       "    </tr>\n",
       "    <tr>\n",
       "      <th>25%</th>\n",
       "      <td>9548.000000</td>\n",
       "      <td>8426.000000</td>\n",
       "      <td>144.000000</td>\n",
       "      <td>363.000000</td>\n",
       "      <td>144.000000</td>\n",
       "      <td>48.000000</td>\n",
       "      <td>42.000000</td>\n",
       "      <td>41.000000</td>\n",
       "      <td>47.000000</td>\n",
       "      <td>48.000000</td>\n",
       "      <td>46.000000</td>\n",
       "      <td>39.000000</td>\n",
       "      <td>44.000000</td>\n",
       "      <td>48.000000</td>\n",
       "    </tr>\n",
       "    <tr>\n",
       "      <th>50%</th>\n",
       "      <td>20525.000000</td>\n",
       "      <td>8667.000000</td>\n",
       "      <td>571.000000</td>\n",
       "      <td>725.000000</td>\n",
       "      <td>571.000000</td>\n",
       "      <td>54.000000</td>\n",
       "      <td>49.000000</td>\n",
       "      <td>50.000000</td>\n",
       "      <td>53.000000</td>\n",
       "      <td>53.000000</td>\n",
       "      <td>52.000000</td>\n",
       "      <td>45.000000</td>\n",
       "      <td>48.000000</td>\n",
       "      <td>52.000000</td>\n",
       "    </tr>\n",
       "    <tr>\n",
       "      <th>75%</th>\n",
       "      <td>35294.000000</td>\n",
       "      <td>9904.000000</td>\n",
       "      <td>1904.000000</td>\n",
       "      <td>1081.000000</td>\n",
       "      <td>1904.000000</td>\n",
       "      <td>62.000000</td>\n",
       "      <td>55.000000</td>\n",
       "      <td>55.000000</td>\n",
       "      <td>59.000000</td>\n",
       "      <td>60.000000</td>\n",
       "      <td>57.000000</td>\n",
       "      <td>51.000000</td>\n",
       "      <td>54.000000</td>\n",
       "      <td>56.000000</td>\n",
       "    </tr>\n",
       "    <tr>\n",
       "      <th>max</th>\n",
       "      <td>50204.000000</td>\n",
       "      <td>274581.000000</td>\n",
       "      <td>112513.000000</td>\n",
       "      <td>1458.000000</td>\n",
       "      <td>112513.000000</td>\n",
       "      <td>80.000000</td>\n",
       "      <td>77.000000</td>\n",
       "      <td>79.000000</td>\n",
       "      <td>77.000000</td>\n",
       "      <td>80.000000</td>\n",
       "      <td>80.000000</td>\n",
       "      <td>72.000000</td>\n",
       "      <td>72.000000</td>\n",
       "      <td>73.000000</td>\n",
       "    </tr>\n",
       "  </tbody>\n",
       "</table>\n",
       "</div>"
      ],
      "text/plain": [
       "               id_x    team_api_id  team_fifa_api_id_x         id_y  \\\n",
       "count    489.000000     489.000000          489.000000   489.000000   \n",
       "mean   22771.777096   11301.245399        19274.509202   722.826176   \n",
       "std    15054.945518   20902.931896        40697.893854   419.343252   \n",
       "min        1.000000    1601.000000            1.000000     2.000000   \n",
       "25%     9548.000000    8426.000000          144.000000   363.000000   \n",
       "50%    20525.000000    8667.000000          571.000000   725.000000   \n",
       "75%    35294.000000    9904.000000         1904.000000  1081.000000   \n",
       "max    50204.000000  274581.000000       112513.000000  1458.000000   \n",
       "\n",
       "       team_fifa_api_id_y  buildUpPlaySpeed  buildUpPlayDribbling  \\\n",
       "count          489.000000        489.000000            489.000000   \n",
       "mean         19274.509202         54.100204             48.607362   \n",
       "std          40697.893854          9.791901              9.678290   \n",
       "min              1.000000         26.000000             24.000000   \n",
       "25%            144.000000         48.000000             42.000000   \n",
       "50%            571.000000         54.000000             49.000000   \n",
       "75%           1904.000000         62.000000             55.000000   \n",
       "max         112513.000000         80.000000             77.000000   \n",
       "\n",
       "       buildUpPlayPassing  chanceCreationPassing  chanceCreationCrossing  \\\n",
       "count          489.000000             489.000000              489.000000   \n",
       "mean            49.372188              52.584867               53.094070   \n",
       "std             10.271146               9.895637                9.938507   \n",
       "min             20.000000              21.000000               23.000000   \n",
       "25%             41.000000              47.000000               48.000000   \n",
       "50%             50.000000              53.000000               53.000000   \n",
       "75%             55.000000              59.000000               60.000000   \n",
       "max             79.000000              77.000000               80.000000   \n",
       "\n",
       "       chanceCreationShooting  defencePressure  defenceAggression  \\\n",
       "count              489.000000       489.000000         489.000000   \n",
       "mean                51.331288        45.233129          48.490798   \n",
       "std                 10.195058         8.877978           7.926689   \n",
       "min                 22.000000        23.000000          24.000000   \n",
       "25%                 46.000000        39.000000          44.000000   \n",
       "50%                 52.000000        45.000000          48.000000   \n",
       "75%                 57.000000        51.000000          54.000000   \n",
       "max                 80.000000        72.000000          72.000000   \n",
       "\n",
       "       defenceTeamWidth  \n",
       "count        489.000000  \n",
       "mean          51.611452  \n",
       "std            7.573164  \n",
       "min           29.000000  \n",
       "25%           48.000000  \n",
       "50%           52.000000  \n",
       "75%           56.000000  \n",
       "max           73.000000  "
      ]
     },
     "execution_count": 28,
     "metadata": {},
     "output_type": "execute_result"
    }
   ],
   "source": [
    "Team.describe()"
   ]
  },
  {
   "cell_type": "code",
   "execution_count": 29,
   "metadata": {},
   "outputs": [
    {
     "data": {
      "text/plain": [
       "False"
      ]
     },
     "execution_count": 29,
     "metadata": {},
     "output_type": "execute_result"
    }
   ],
   "source": [
    "Team.duplicated().any()"
   ]
  },
  {
   "cell_type": "code",
   "execution_count": 30,
   "metadata": {},
   "outputs": [
    {
     "data": {
      "text/plain": [
       "0"
      ]
     },
     "execution_count": 30,
     "metadata": {},
     "output_type": "execute_result"
    }
   ],
   "source": [
    "Team.duplicated().sum()"
   ]
  },
  {
   "cell_type": "code",
   "execution_count": 31,
   "metadata": {},
   "outputs": [
    {
     "data": {
      "text/plain": [
       "id_x                              0\n",
       "team_api_id                       0\n",
       "team_fifa_api_id_x                0\n",
       "team_long_name                    0\n",
       "team_short_name                   0\n",
       "id_y                              0\n",
       "team_fifa_api_id_y                0\n",
       "date                              0\n",
       "buildUpPlaySpeed                  0\n",
       "buildUpPlaySpeedClass             0\n",
       "buildUpPlayDribbling              0\n",
       "buildUpPlayDribblingClass         0\n",
       "buildUpPlayPassing                0\n",
       "buildUpPlayPassingClass           0\n",
       "buildUpPlayPositioningClass       0\n",
       "chanceCreationPassing             0\n",
       "chanceCreationPassingClass        0\n",
       "chanceCreationCrossing            0\n",
       "chanceCreationCrossingClass       0\n",
       "chanceCreationShooting            0\n",
       "chanceCreationShootingClass       0\n",
       "chanceCreationPositioningClass    0\n",
       "defencePressure                   0\n",
       "defencePressureClass              0\n",
       "defenceAggression                 0\n",
       "defenceAggressionClass            0\n",
       "defenceTeamWidth                  0\n",
       "defenceTeamWidthClass             0\n",
       "defenceDefenderLineClass          0\n",
       "dtype: int64"
      ]
     },
     "execution_count": 31,
     "metadata": {},
     "output_type": "execute_result"
    }
   ],
   "source": [
    "Team.isnull().sum()"
   ]
  },
  {
   "cell_type": "code",
   "execution_count": 32,
   "metadata": {},
   "outputs": [
    {
     "data": {
      "text/plain": [
       "id_x                                int64\n",
       "team_api_id                         int64\n",
       "team_fifa_api_id_x                float64\n",
       "team_long_name                     object\n",
       "team_short_name                    object\n",
       "id_y                                int64\n",
       "team_fifa_api_id_y                  int64\n",
       "date                               object\n",
       "buildUpPlaySpeed                    int64\n",
       "buildUpPlaySpeedClass              object\n",
       "buildUpPlayDribbling              float64\n",
       "buildUpPlayDribblingClass          object\n",
       "buildUpPlayPassing                  int64\n",
       "buildUpPlayPassingClass            object\n",
       "buildUpPlayPositioningClass        object\n",
       "chanceCreationPassing               int64\n",
       "chanceCreationPassingClass         object\n",
       "chanceCreationCrossing              int64\n",
       "chanceCreationCrossingClass        object\n",
       "chanceCreationShooting              int64\n",
       "chanceCreationShootingClass        object\n",
       "chanceCreationPositioningClass     object\n",
       "defencePressure                     int64\n",
       "defencePressureClass               object\n",
       "defenceAggression                   int64\n",
       "defenceAggressionClass             object\n",
       "defenceTeamWidth                    int64\n",
       "defenceTeamWidthClass              object\n",
       "defenceDefenderLineClass           object\n",
       "dtype: object"
      ]
     },
     "execution_count": 32,
     "metadata": {},
     "output_type": "execute_result"
    }
   ],
   "source": [
    "Team.dtypes"
   ]
  },
  {
   "cell_type": "code",
   "execution_count": 33,
   "metadata": {},
   "outputs": [
    {
     "data": {
      "text/plain": [
       "Index([], dtype='object')"
      ]
     },
     "execution_count": 33,
     "metadata": {},
     "output_type": "execute_result"
    }
   ],
   "source": [
    "#columns that have missing values\n",
    "Team.columns[Team.isnull().any()]"
   ]
  },
  {
   "cell_type": "code",
   "execution_count": 34,
   "metadata": {},
   "outputs": [],
   "source": [
    "# 5. Exploratory Data Analysis on `Match` dataset"
   ]
  },
  {
   "cell_type": "code",
   "execution_count": 35,
   "metadata": {},
   "outputs": [
    {
     "data": {
      "text/html": [
       "<div>\n",
       "<style scoped>\n",
       "    .dataframe tbody tr th:only-of-type {\n",
       "        vertical-align: middle;\n",
       "    }\n",
       "\n",
       "    .dataframe tbody tr th {\n",
       "        vertical-align: top;\n",
       "    }\n",
       "\n",
       "    .dataframe thead th {\n",
       "        text-align: right;\n",
       "    }\n",
       "</style>\n",
       "<table border=\"1\" class=\"dataframe\">\n",
       "  <thead>\n",
       "    <tr style=\"text-align: right;\">\n",
       "      <th></th>\n",
       "      <th>id</th>\n",
       "      <th>country_id</th>\n",
       "      <th>league_id</th>\n",
       "      <th>season</th>\n",
       "      <th>stage</th>\n",
       "      <th>date</th>\n",
       "      <th>match_api_id</th>\n",
       "      <th>home_team_api_id</th>\n",
       "      <th>away_team_api_id</th>\n",
       "      <th>home_team_goal</th>\n",
       "      <th>...</th>\n",
       "      <th>SJA</th>\n",
       "      <th>VCH</th>\n",
       "      <th>VCD</th>\n",
       "      <th>VCA</th>\n",
       "      <th>GBH</th>\n",
       "      <th>GBD</th>\n",
       "      <th>GBA</th>\n",
       "      <th>BSH</th>\n",
       "      <th>BSD</th>\n",
       "      <th>BSA</th>\n",
       "    </tr>\n",
       "  </thead>\n",
       "  <tbody>\n",
       "    <tr>\n",
       "      <th>0</th>\n",
       "      <td>1</td>\n",
       "      <td>1</td>\n",
       "      <td>1</td>\n",
       "      <td>2008/2009</td>\n",
       "      <td>1</td>\n",
       "      <td>2008-08-17 00:00:00</td>\n",
       "      <td>492473</td>\n",
       "      <td>9987</td>\n",
       "      <td>9993</td>\n",
       "      <td>1</td>\n",
       "      <td>...</td>\n",
       "      <td>4.00</td>\n",
       "      <td>1.65</td>\n",
       "      <td>3.40</td>\n",
       "      <td>4.50</td>\n",
       "      <td>1.78</td>\n",
       "      <td>3.25</td>\n",
       "      <td>4.00</td>\n",
       "      <td>1.73</td>\n",
       "      <td>3.40</td>\n",
       "      <td>4.20</td>\n",
       "    </tr>\n",
       "    <tr>\n",
       "      <th>1</th>\n",
       "      <td>2</td>\n",
       "      <td>1</td>\n",
       "      <td>1</td>\n",
       "      <td>2008/2009</td>\n",
       "      <td>1</td>\n",
       "      <td>2008-08-16 00:00:00</td>\n",
       "      <td>492474</td>\n",
       "      <td>10000</td>\n",
       "      <td>9994</td>\n",
       "      <td>0</td>\n",
       "      <td>...</td>\n",
       "      <td>3.80</td>\n",
       "      <td>2.00</td>\n",
       "      <td>3.25</td>\n",
       "      <td>3.25</td>\n",
       "      <td>1.85</td>\n",
       "      <td>3.25</td>\n",
       "      <td>3.75</td>\n",
       "      <td>1.91</td>\n",
       "      <td>3.25</td>\n",
       "      <td>3.60</td>\n",
       "    </tr>\n",
       "    <tr>\n",
       "      <th>2</th>\n",
       "      <td>3</td>\n",
       "      <td>1</td>\n",
       "      <td>1</td>\n",
       "      <td>2008/2009</td>\n",
       "      <td>1</td>\n",
       "      <td>2008-08-16 00:00:00</td>\n",
       "      <td>492475</td>\n",
       "      <td>9984</td>\n",
       "      <td>8635</td>\n",
       "      <td>0</td>\n",
       "      <td>...</td>\n",
       "      <td>2.50</td>\n",
       "      <td>2.35</td>\n",
       "      <td>3.25</td>\n",
       "      <td>2.65</td>\n",
       "      <td>2.50</td>\n",
       "      <td>3.20</td>\n",
       "      <td>2.50</td>\n",
       "      <td>2.30</td>\n",
       "      <td>3.20</td>\n",
       "      <td>2.75</td>\n",
       "    </tr>\n",
       "    <tr>\n",
       "      <th>3</th>\n",
       "      <td>4</td>\n",
       "      <td>1</td>\n",
       "      <td>1</td>\n",
       "      <td>2008/2009</td>\n",
       "      <td>1</td>\n",
       "      <td>2008-08-17 00:00:00</td>\n",
       "      <td>492476</td>\n",
       "      <td>9991</td>\n",
       "      <td>9998</td>\n",
       "      <td>5</td>\n",
       "      <td>...</td>\n",
       "      <td>7.50</td>\n",
       "      <td>1.45</td>\n",
       "      <td>3.75</td>\n",
       "      <td>6.50</td>\n",
       "      <td>1.50</td>\n",
       "      <td>3.75</td>\n",
       "      <td>5.50</td>\n",
       "      <td>1.44</td>\n",
       "      <td>3.75</td>\n",
       "      <td>6.50</td>\n",
       "    </tr>\n",
       "    <tr>\n",
       "      <th>4</th>\n",
       "      <td>5</td>\n",
       "      <td>1</td>\n",
       "      <td>1</td>\n",
       "      <td>2008/2009</td>\n",
       "      <td>1</td>\n",
       "      <td>2008-08-16 00:00:00</td>\n",
       "      <td>492477</td>\n",
       "      <td>7947</td>\n",
       "      <td>9985</td>\n",
       "      <td>1</td>\n",
       "      <td>...</td>\n",
       "      <td>1.73</td>\n",
       "      <td>4.50</td>\n",
       "      <td>3.40</td>\n",
       "      <td>1.65</td>\n",
       "      <td>4.50</td>\n",
       "      <td>3.50</td>\n",
       "      <td>1.65</td>\n",
       "      <td>4.75</td>\n",
       "      <td>3.30</td>\n",
       "      <td>1.67</td>\n",
       "    </tr>\n",
       "  </tbody>\n",
       "</table>\n",
       "<p>5 rows × 115 columns</p>\n",
       "</div>"
      ],
      "text/plain": [
       "   id  country_id  league_id     season  stage                 date  \\\n",
       "0   1           1          1  2008/2009      1  2008-08-17 00:00:00   \n",
       "1   2           1          1  2008/2009      1  2008-08-16 00:00:00   \n",
       "2   3           1          1  2008/2009      1  2008-08-16 00:00:00   \n",
       "3   4           1          1  2008/2009      1  2008-08-17 00:00:00   \n",
       "4   5           1          1  2008/2009      1  2008-08-16 00:00:00   \n",
       "\n",
       "   match_api_id  home_team_api_id  away_team_api_id  home_team_goal  ...  \\\n",
       "0        492473              9987              9993               1  ...   \n",
       "1        492474             10000              9994               0  ...   \n",
       "2        492475              9984              8635               0  ...   \n",
       "3        492476              9991              9998               5  ...   \n",
       "4        492477              7947              9985               1  ...   \n",
       "\n",
       "    SJA   VCH   VCD   VCA   GBH   GBD   GBA   BSH   BSD   BSA  \n",
       "0  4.00  1.65  3.40  4.50  1.78  3.25  4.00  1.73  3.40  4.20  \n",
       "1  3.80  2.00  3.25  3.25  1.85  3.25  3.75  1.91  3.25  3.60  \n",
       "2  2.50  2.35  3.25  2.65  2.50  3.20  2.50  2.30  3.20  2.75  \n",
       "3  7.50  1.45  3.75  6.50  1.50  3.75  5.50  1.44  3.75  6.50  \n",
       "4  1.73  4.50  3.40  1.65  4.50  3.50  1.65  4.75  3.30  1.67  \n",
       "\n",
       "[5 rows x 115 columns]"
      ]
     },
     "execution_count": 35,
     "metadata": {},
     "output_type": "execute_result"
    }
   ],
   "source": [
    "Match.head()"
   ]
  },
  {
   "cell_type": "code",
   "execution_count": 36,
   "metadata": {},
   "outputs": [
    {
     "data": {
      "text/plain": [
       "(25979, 115)"
      ]
     },
     "execution_count": 36,
     "metadata": {},
     "output_type": "execute_result"
    }
   ],
   "source": [
    "Match.shape"
   ]
  },
  {
   "cell_type": "code",
   "execution_count": 37,
   "metadata": {},
   "outputs": [
    {
     "data": {
      "text/plain": [
       "id            25979\n",
       "country_id       11\n",
       "league_id        11\n",
       "season            8\n",
       "stage            38\n",
       "              ...  \n",
       "GBD              84\n",
       "GBA             172\n",
       "BSH             101\n",
       "BSD              59\n",
       "BSA              96\n",
       "Length: 115, dtype: int64"
      ]
     },
     "execution_count": 37,
     "metadata": {},
     "output_type": "execute_result"
    }
   ],
   "source": [
    "Match.nunique()"
   ]
  },
  {
   "cell_type": "code",
   "execution_count": 38,
   "metadata": {},
   "outputs": [
    {
     "data": {
      "text/plain": [
       "id                0\n",
       "country_id        0\n",
       "league_id         0\n",
       "season            0\n",
       "stage             0\n",
       "              ...  \n",
       "GBD           11817\n",
       "GBA           11817\n",
       "BSH           11818\n",
       "BSD           11818\n",
       "BSA           11818\n",
       "Length: 115, dtype: int64"
      ]
     },
     "execution_count": 38,
     "metadata": {},
     "output_type": "execute_result"
    }
   ],
   "source": [
    "Match.isnull().sum()"
   ]
  },
  {
   "cell_type": "code",
   "execution_count": 39,
   "metadata": {},
   "outputs": [
    {
     "name": "stdout",
     "output_type": "stream",
     "text": [
      "<class 'pandas.core.frame.DataFrame'>\n",
      "RangeIndex: 25979 entries, 0 to 25978\n",
      "Columns: 115 entries, id to BSA\n",
      "dtypes: float64(96), int64(9), object(10)\n",
      "memory usage: 22.8+ MB\n"
     ]
    }
   ],
   "source": [
    "Match.info()"
   ]
  },
  {
   "cell_type": "code",
   "execution_count": 40,
   "metadata": {},
   "outputs": [],
   "source": [
    "Match.dropna(inplace = True)"
   ]
  },
  {
   "cell_type": "code",
   "execution_count": 41,
   "metadata": {},
   "outputs": [
    {
     "name": "stdout",
     "output_type": "stream",
     "text": [
      "<class 'pandas.core.frame.DataFrame'>\n",
      "Int64Index: 1762 entries, 3248 to 23416\n",
      "Columns: 115 entries, id to BSA\n",
      "dtypes: float64(96), int64(9), object(10)\n",
      "memory usage: 1.6+ MB\n"
     ]
    }
   ],
   "source": [
    "Match.info()"
   ]
  },
  {
   "cell_type": "code",
   "execution_count": 42,
   "metadata": {},
   "outputs": [
    {
     "data": {
      "text/plain": [
       "id            0\n",
       "country_id    0\n",
       "league_id     0\n",
       "season        0\n",
       "stage         0\n",
       "             ..\n",
       "GBD           0\n",
       "GBA           0\n",
       "BSH           0\n",
       "BSD           0\n",
       "BSA           0\n",
       "Length: 115, dtype: int64"
      ]
     },
     "execution_count": 42,
     "metadata": {},
     "output_type": "execute_result"
    }
   ],
   "source": [
    "Match.isnull().sum()"
   ]
  },
  {
   "cell_type": "code",
   "execution_count": 43,
   "metadata": {},
   "outputs": [],
   "source": [
    "Match.drop_duplicates(inplace = True)"
   ]
  },
  {
   "cell_type": "code",
   "execution_count": 44,
   "metadata": {},
   "outputs": [
    {
     "data": {
      "text/plain": [
       "False"
      ]
     },
     "execution_count": 44,
     "metadata": {},
     "output_type": "execute_result"
    }
   ],
   "source": [
    "Match.duplicated().any()"
   ]
  },
  {
   "cell_type": "code",
   "execution_count": 45,
   "metadata": {},
   "outputs": [
    {
     "data": {
      "text/plain": [
       "0"
      ]
     },
     "execution_count": 45,
     "metadata": {},
     "output_type": "execute_result"
    }
   ],
   "source": [
    "Match.duplicated().sum()"
   ]
  },
  {
   "cell_type": "code",
   "execution_count": 46,
   "metadata": {},
   "outputs": [
    {
     "data": {
      "text/plain": [
       "Index([], dtype='object')"
      ]
     },
     "execution_count": 46,
     "metadata": {},
     "output_type": "execute_result"
    }
   ],
   "source": [
    "#columns that have missing values\n",
    "Match.columns[Match.isnull().any()]"
   ]
  },
  {
   "cell_type": "markdown",
   "metadata": {},
   "source": [
    "# 6. Data Cleaning Process"
   ]
  },
  {
   "cell_type": "code",
   "execution_count": 47,
   "metadata": {},
   "outputs": [],
   "source": [
    "#Drop extraneous columns that are not relevant to our questions\n",
    "#columns to drop in Matches.csv: 'goal', 'shoton', 'shotoff', 'foulcommit', 'card', 'cross', 'corner', 'possession', \n",
    "#'date' as there is no clean data in them , only comments\n",
    "Match.drop(['goal', 'shoton', 'shotoff', 'foulcommit', 'card', 'cross', 'corner', 'possession', 'date'], axis=1, inplace=True)"
   ]
  },
  {
   "cell_type": "code",
   "execution_count": 48,
   "metadata": {},
   "outputs": [
    {
     "data": {
      "text/html": [
       "<div>\n",
       "<style scoped>\n",
       "    .dataframe tbody tr th:only-of-type {\n",
       "        vertical-align: middle;\n",
       "    }\n",
       "\n",
       "    .dataframe tbody tr th {\n",
       "        vertical-align: top;\n",
       "    }\n",
       "\n",
       "    .dataframe thead th {\n",
       "        text-align: right;\n",
       "    }\n",
       "</style>\n",
       "<table border=\"1\" class=\"dataframe\">\n",
       "  <thead>\n",
       "    <tr style=\"text-align: right;\">\n",
       "      <th></th>\n",
       "      <th>id</th>\n",
       "      <th>country_id</th>\n",
       "      <th>league_id</th>\n",
       "      <th>season</th>\n",
       "      <th>stage</th>\n",
       "      <th>match_api_id</th>\n",
       "      <th>home_team_api_id</th>\n",
       "      <th>away_team_api_id</th>\n",
       "      <th>home_team_goal</th>\n",
       "      <th>away_team_goal</th>\n",
       "      <th>...</th>\n",
       "      <th>SJA</th>\n",
       "      <th>VCH</th>\n",
       "      <th>VCD</th>\n",
       "      <th>VCA</th>\n",
       "      <th>GBH</th>\n",
       "      <th>GBD</th>\n",
       "      <th>GBA</th>\n",
       "      <th>BSH</th>\n",
       "      <th>BSD</th>\n",
       "      <th>BSA</th>\n",
       "    </tr>\n",
       "  </thead>\n",
       "  <tbody>\n",
       "    <tr>\n",
       "      <th>6545</th>\n",
       "      <td>6546</td>\n",
       "      <td>4769</td>\n",
       "      <td>4769</td>\n",
       "      <td>2012/2013</td>\n",
       "      <td>32</td>\n",
       "      <td>1217128</td>\n",
       "      <td>9831</td>\n",
       "      <td>9874</td>\n",
       "      <td>3</td>\n",
       "      <td>0</td>\n",
       "      <td>...</td>\n",
       "      <td>4.50</td>\n",
       "      <td>1.91</td>\n",
       "      <td>3.40</td>\n",
       "      <td>4.60</td>\n",
       "      <td>1.83</td>\n",
       "      <td>3.3</td>\n",
       "      <td>4.60</td>\n",
       "      <td>1.83</td>\n",
       "      <td>3.30</td>\n",
       "      <td>4.75</td>\n",
       "    </tr>\n",
       "    <tr>\n",
       "      <th>3512</th>\n",
       "      <td>3513</td>\n",
       "      <td>1729</td>\n",
       "      <td>1729</td>\n",
       "      <td>2012/2013</td>\n",
       "      <td>33</td>\n",
       "      <td>1229455</td>\n",
       "      <td>8456</td>\n",
       "      <td>8659</td>\n",
       "      <td>1</td>\n",
       "      <td>0</td>\n",
       "      <td>...</td>\n",
       "      <td>10.00</td>\n",
       "      <td>1.40</td>\n",
       "      <td>4.75</td>\n",
       "      <td>9.50</td>\n",
       "      <td>1.34</td>\n",
       "      <td>5.0</td>\n",
       "      <td>8.00</td>\n",
       "      <td>1.33</td>\n",
       "      <td>5.00</td>\n",
       "      <td>9.00</td>\n",
       "    </tr>\n",
       "    <tr>\n",
       "      <th>11892</th>\n",
       "      <td>11893</td>\n",
       "      <td>10257</td>\n",
       "      <td>10257</td>\n",
       "      <td>2012/2013</td>\n",
       "      <td>21</td>\n",
       "      <td>1287175</td>\n",
       "      <td>9878</td>\n",
       "      <td>9804</td>\n",
       "      <td>0</td>\n",
       "      <td>2</td>\n",
       "      <td>...</td>\n",
       "      <td>2.63</td>\n",
       "      <td>2.80</td>\n",
       "      <td>3.20</td>\n",
       "      <td>2.75</td>\n",
       "      <td>2.65</td>\n",
       "      <td>3.2</td>\n",
       "      <td>2.65</td>\n",
       "      <td>2.70</td>\n",
       "      <td>3.10</td>\n",
       "      <td>2.62</td>\n",
       "    </tr>\n",
       "    <tr>\n",
       "      <th>6363</th>\n",
       "      <td>6364</td>\n",
       "      <td>4769</td>\n",
       "      <td>4769</td>\n",
       "      <td>2012/2013</td>\n",
       "      <td>16</td>\n",
       "      <td>1216966</td>\n",
       "      <td>9851</td>\n",
       "      <td>8521</td>\n",
       "      <td>2</td>\n",
       "      <td>2</td>\n",
       "      <td>...</td>\n",
       "      <td>6.25</td>\n",
       "      <td>1.65</td>\n",
       "      <td>3.75</td>\n",
       "      <td>6.50</td>\n",
       "      <td>1.62</td>\n",
       "      <td>3.4</td>\n",
       "      <td>6.25</td>\n",
       "      <td>1.57</td>\n",
       "      <td>3.75</td>\n",
       "      <td>6.50</td>\n",
       "    </tr>\n",
       "  </tbody>\n",
       "</table>\n",
       "<p>4 rows × 106 columns</p>\n",
       "</div>"
      ],
      "text/plain": [
       "          id  country_id  league_id     season  stage  match_api_id  \\\n",
       "6545    6546        4769       4769  2012/2013     32       1217128   \n",
       "3512    3513        1729       1729  2012/2013     33       1229455   \n",
       "11892  11893       10257      10257  2012/2013     21       1287175   \n",
       "6363    6364        4769       4769  2012/2013     16       1216966   \n",
       "\n",
       "       home_team_api_id  away_team_api_id  home_team_goal  away_team_goal  \\\n",
       "6545               9831              9874               3               0   \n",
       "3512               8456              8659               1               0   \n",
       "11892              9878              9804               0               2   \n",
       "6363               9851              8521               2               2   \n",
       "\n",
       "       ...    SJA   VCH   VCD   VCA   GBH  GBD   GBA   BSH   BSD   BSA  \n",
       "6545   ...   4.50  1.91  3.40  4.60  1.83  3.3  4.60  1.83  3.30  4.75  \n",
       "3512   ...  10.00  1.40  4.75  9.50  1.34  5.0  8.00  1.33  5.00  9.00  \n",
       "11892  ...   2.63  2.80  3.20  2.75  2.65  3.2  2.65  2.70  3.10  2.62  \n",
       "6363   ...   6.25  1.65  3.75  6.50  1.62  3.4  6.25  1.57  3.75  6.50  \n",
       "\n",
       "[4 rows x 106 columns]"
      ]
     },
     "execution_count": 48,
     "metadata": {},
     "output_type": "execute_result"
    }
   ],
   "source": [
    "Match.sample(4)"
   ]
  },
  {
   "cell_type": "code",
   "execution_count": 49,
   "metadata": {},
   "outputs": [],
   "source": [
    "#columns to drop: 'preferred foot', 'date' and 'player_fifa_api_id'\n",
    "player.drop(['preferred_foot', 'date'], axis = 1, inplace = True)"
   ]
  },
  {
   "cell_type": "code",
   "execution_count": 50,
   "metadata": {},
   "outputs": [],
   "source": [
    "#columns to drop in Teams.csv: 'team short name', 'team long name','id', 'team_fifa_api_id', 'date'\n",
    "#drop the names of the teams as the data is very innacurate, only 20 names provided out of 288\n",
    "Team.drop(['team_short_name', 'team_long_name', 'date'], axis=1, inplace=True)"
   ]
  },
  {
   "cell_type": "code",
   "execution_count": 51,
   "metadata": {},
   "outputs": [
    {
     "data": {
      "text/html": [
       "<div>\n",
       "<style scoped>\n",
       "    .dataframe tbody tr th:only-of-type {\n",
       "        vertical-align: middle;\n",
       "    }\n",
       "\n",
       "    .dataframe tbody tr th {\n",
       "        vertical-align: top;\n",
       "    }\n",
       "\n",
       "    .dataframe thead th {\n",
       "        text-align: right;\n",
       "    }\n",
       "</style>\n",
       "<table border=\"1\" class=\"dataframe\">\n",
       "  <thead>\n",
       "    <tr style=\"text-align: right;\">\n",
       "      <th></th>\n",
       "      <th>id</th>\n",
       "      <th>country_id</th>\n",
       "      <th>league_id</th>\n",
       "      <th>season</th>\n",
       "      <th>stage</th>\n",
       "      <th>match_api_id</th>\n",
       "      <th>home_team_api_id</th>\n",
       "      <th>away_team_api_id</th>\n",
       "      <th>home_team_goal</th>\n",
       "      <th>away_team_goal</th>\n",
       "      <th>...</th>\n",
       "      <th>SJA</th>\n",
       "      <th>VCH</th>\n",
       "      <th>VCD</th>\n",
       "      <th>VCA</th>\n",
       "      <th>GBH</th>\n",
       "      <th>GBD</th>\n",
       "      <th>GBA</th>\n",
       "      <th>BSH</th>\n",
       "      <th>BSD</th>\n",
       "      <th>BSA</th>\n",
       "    </tr>\n",
       "  </thead>\n",
       "  <tbody>\n",
       "    <tr>\n",
       "      <th>3248</th>\n",
       "      <td>3249</td>\n",
       "      <td>1729</td>\n",
       "      <td>1729</td>\n",
       "      <td>2012/2013</td>\n",
       "      <td>1</td>\n",
       "      <td>1228229</td>\n",
       "      <td>9825</td>\n",
       "      <td>8472</td>\n",
       "      <td>0</td>\n",
       "      <td>0</td>\n",
       "      <td>...</td>\n",
       "      <td>9.50</td>\n",
       "      <td>1.44</td>\n",
       "      <td>4.75</td>\n",
       "      <td>8.50</td>\n",
       "      <td>1.35</td>\n",
       "      <td>4.6</td>\n",
       "      <td>9.00</td>\n",
       "      <td>1.40</td>\n",
       "      <td>4.33</td>\n",
       "      <td>8.50</td>\n",
       "    </tr>\n",
       "    <tr>\n",
       "      <th>3249</th>\n",
       "      <td>3250</td>\n",
       "      <td>1729</td>\n",
       "      <td>1729</td>\n",
       "      <td>2012/2013</td>\n",
       "      <td>1</td>\n",
       "      <td>1228230</td>\n",
       "      <td>8668</td>\n",
       "      <td>10260</td>\n",
       "      <td>1</td>\n",
       "      <td>0</td>\n",
       "      <td>...</td>\n",
       "      <td>1.91</td>\n",
       "      <td>4.30</td>\n",
       "      <td>3.70</td>\n",
       "      <td>1.87</td>\n",
       "      <td>4.60</td>\n",
       "      <td>3.5</td>\n",
       "      <td>1.83</td>\n",
       "      <td>4.00</td>\n",
       "      <td>3.40</td>\n",
       "      <td>1.91</td>\n",
       "    </tr>\n",
       "    <tr>\n",
       "      <th>3250</th>\n",
       "      <td>3251</td>\n",
       "      <td>1729</td>\n",
       "      <td>1729</td>\n",
       "      <td>2012/2013</td>\n",
       "      <td>1</td>\n",
       "      <td>1228231</td>\n",
       "      <td>9879</td>\n",
       "      <td>9850</td>\n",
       "      <td>5</td>\n",
       "      <td>0</td>\n",
       "      <td>...</td>\n",
       "      <td>4.50</td>\n",
       "      <td>1.83</td>\n",
       "      <td>3.75</td>\n",
       "      <td>4.75</td>\n",
       "      <td>1.80</td>\n",
       "      <td>3.5</td>\n",
       "      <td>4.40</td>\n",
       "      <td>1.83</td>\n",
       "      <td>3.50</td>\n",
       "      <td>4.33</td>\n",
       "    </tr>\n",
       "  </tbody>\n",
       "</table>\n",
       "<p>3 rows × 106 columns</p>\n",
       "</div>"
      ],
      "text/plain": [
       "        id  country_id  league_id     season  stage  match_api_id  \\\n",
       "3248  3249        1729       1729  2012/2013      1       1228229   \n",
       "3249  3250        1729       1729  2012/2013      1       1228230   \n",
       "3250  3251        1729       1729  2012/2013      1       1228231   \n",
       "\n",
       "      home_team_api_id  away_team_api_id  home_team_goal  away_team_goal  ...  \\\n",
       "3248              9825              8472               0               0  ...   \n",
       "3249              8668             10260               1               0  ...   \n",
       "3250              9879              9850               5               0  ...   \n",
       "\n",
       "       SJA   VCH   VCD   VCA   GBH  GBD   GBA   BSH   BSD   BSA  \n",
       "3248  9.50  1.44  4.75  8.50  1.35  4.6  9.00  1.40  4.33  8.50  \n",
       "3249  1.91  4.30  3.70  1.87  4.60  3.5  1.83  4.00  3.40  1.91  \n",
       "3250  4.50  1.83  3.75  4.75  1.80  3.5  4.40  1.83  3.50  4.33  \n",
       "\n",
       "[3 rows x 106 columns]"
      ]
     },
     "execution_count": 51,
     "metadata": {},
     "output_type": "execute_result"
    }
   ],
   "source": [
    "#rename columns Country and League in Matches.csv and convert them to lowercase\n",
    "Match = Match.rename(columns = {'Country':'country', 'League':'league'})\n",
    "\n",
    "#confirm changes\n",
    "Match.head(3)"
   ]
  },
  {
   "cell_type": "code",
   "execution_count": 52,
   "metadata": {},
   "outputs": [
    {
     "name": "stdout",
     "output_type": "stream",
     "text": [
      "<class 'pandas.core.frame.DataFrame'>\n",
      "Int64Index: 180354 entries, 0 to 183977\n",
      "Data columns (total 46 columns):\n",
      " #   Column                Non-Null Count   Dtype  \n",
      "---  ------                --------------   -----  \n",
      " 0   id_x                  180354 non-null  int64  \n",
      " 1   player_api_id         180354 non-null  int64  \n",
      " 2   player_name           180354 non-null  object \n",
      " 3   player_fifa_api_id_x  180354 non-null  int64  \n",
      " 4   birthday              180354 non-null  object \n",
      " 5   height                180354 non-null  float64\n",
      " 6   weight                180354 non-null  int64  \n",
      " 7   id_y                  180354 non-null  int64  \n",
      " 8   player_fifa_api_id_y  180354 non-null  int64  \n",
      " 9   overall_rating        180354 non-null  float64\n",
      " 10  potential             180354 non-null  float64\n",
      " 11  attacking_work_rate   180354 non-null  object \n",
      " 12  defensive_work_rate   180354 non-null  object \n",
      " 13  crossing              180354 non-null  float64\n",
      " 14  finishing             180354 non-null  float64\n",
      " 15  heading_accuracy      180354 non-null  float64\n",
      " 16  short_passing         180354 non-null  float64\n",
      " 17  volleys               180354 non-null  float64\n",
      " 18  dribbling             180354 non-null  float64\n",
      " 19  curve                 180354 non-null  float64\n",
      " 20  free_kick_accuracy    180354 non-null  float64\n",
      " 21  long_passing          180354 non-null  float64\n",
      " 22  ball_control          180354 non-null  float64\n",
      " 23  acceleration          180354 non-null  float64\n",
      " 24  sprint_speed          180354 non-null  float64\n",
      " 25  agility               180354 non-null  float64\n",
      " 26  reactions             180354 non-null  float64\n",
      " 27  balance               180354 non-null  float64\n",
      " 28  shot_power            180354 non-null  float64\n",
      " 29  jumping               180354 non-null  float64\n",
      " 30  stamina               180354 non-null  float64\n",
      " 31  strength              180354 non-null  float64\n",
      " 32  long_shots            180354 non-null  float64\n",
      " 33  aggression            180354 non-null  float64\n",
      " 34  interceptions         180354 non-null  float64\n",
      " 35  positioning           180354 non-null  float64\n",
      " 36  vision                180354 non-null  float64\n",
      " 37  penalties             180354 non-null  float64\n",
      " 38  marking               180354 non-null  float64\n",
      " 39  standing_tackle       180354 non-null  float64\n",
      " 40  sliding_tackle        180354 non-null  float64\n",
      " 41  gk_diving             180354 non-null  float64\n",
      " 42  gk_handling           180354 non-null  float64\n",
      " 43  gk_kicking            180354 non-null  float64\n",
      " 44  gk_positioning        180354 non-null  float64\n",
      " 45  gk_reflexes           180354 non-null  float64\n",
      "dtypes: float64(36), int64(6), object(4)\n",
      "memory usage: 64.7+ MB\n"
     ]
    }
   ],
   "source": [
    "#drop rows with null values in Players\n",
    "player.dropna(axis=0, how='any', inplace=True)\n",
    "player.info()"
   ]
  },
  {
   "cell_type": "code",
   "execution_count": 53,
   "metadata": {},
   "outputs": [
    {
     "data": {
      "text/html": [
       "<div>\n",
       "<style scoped>\n",
       "    .dataframe tbody tr th:only-of-type {\n",
       "        vertical-align: middle;\n",
       "    }\n",
       "\n",
       "    .dataframe tbody tr th {\n",
       "        vertical-align: top;\n",
       "    }\n",
       "\n",
       "    .dataframe thead th {\n",
       "        text-align: right;\n",
       "    }\n",
       "</style>\n",
       "<table border=\"1\" class=\"dataframe\">\n",
       "  <thead>\n",
       "    <tr style=\"text-align: right;\">\n",
       "      <th></th>\n",
       "      <th>id</th>\n",
       "      <th>country_id</th>\n",
       "      <th>league_id</th>\n",
       "      <th>season</th>\n",
       "      <th>stage</th>\n",
       "      <th>match_api_id</th>\n",
       "      <th>home_team_api_id</th>\n",
       "      <th>away_team_api_id</th>\n",
       "      <th>home_team_goal</th>\n",
       "      <th>away_team_goal</th>\n",
       "      <th>...</th>\n",
       "      <th>VCH</th>\n",
       "      <th>VCD</th>\n",
       "      <th>VCA</th>\n",
       "      <th>GBH</th>\n",
       "      <th>GBD</th>\n",
       "      <th>GBA</th>\n",
       "      <th>BSH</th>\n",
       "      <th>BSD</th>\n",
       "      <th>BSA</th>\n",
       "      <th>winner</th>\n",
       "    </tr>\n",
       "  </thead>\n",
       "  <tbody>\n",
       "    <tr>\n",
       "      <th>3248</th>\n",
       "      <td>3249</td>\n",
       "      <td>1729</td>\n",
       "      <td>1729</td>\n",
       "      <td>2012/2013</td>\n",
       "      <td>1</td>\n",
       "      <td>1228229</td>\n",
       "      <td>9825</td>\n",
       "      <td>8472</td>\n",
       "      <td>0</td>\n",
       "      <td>0</td>\n",
       "      <td>...</td>\n",
       "      <td>1.44</td>\n",
       "      <td>4.75</td>\n",
       "      <td>8.50</td>\n",
       "      <td>1.35</td>\n",
       "      <td>4.60</td>\n",
       "      <td>9.00</td>\n",
       "      <td>1.40</td>\n",
       "      <td>4.33</td>\n",
       "      <td>8.50</td>\n",
       "      <td>draw</td>\n",
       "    </tr>\n",
       "    <tr>\n",
       "      <th>3249</th>\n",
       "      <td>3250</td>\n",
       "      <td>1729</td>\n",
       "      <td>1729</td>\n",
       "      <td>2012/2013</td>\n",
       "      <td>1</td>\n",
       "      <td>1228230</td>\n",
       "      <td>8668</td>\n",
       "      <td>10260</td>\n",
       "      <td>1</td>\n",
       "      <td>0</td>\n",
       "      <td>...</td>\n",
       "      <td>4.30</td>\n",
       "      <td>3.70</td>\n",
       "      <td>1.87</td>\n",
       "      <td>4.60</td>\n",
       "      <td>3.50</td>\n",
       "      <td>1.83</td>\n",
       "      <td>4.00</td>\n",
       "      <td>3.40</td>\n",
       "      <td>1.91</td>\n",
       "      <td>8668</td>\n",
       "    </tr>\n",
       "    <tr>\n",
       "      <th>3250</th>\n",
       "      <td>3251</td>\n",
       "      <td>1729</td>\n",
       "      <td>1729</td>\n",
       "      <td>2012/2013</td>\n",
       "      <td>1</td>\n",
       "      <td>1228231</td>\n",
       "      <td>9879</td>\n",
       "      <td>9850</td>\n",
       "      <td>5</td>\n",
       "      <td>0</td>\n",
       "      <td>...</td>\n",
       "      <td>1.83</td>\n",
       "      <td>3.75</td>\n",
       "      <td>4.75</td>\n",
       "      <td>1.80</td>\n",
       "      <td>3.50</td>\n",
       "      <td>4.40</td>\n",
       "      <td>1.83</td>\n",
       "      <td>3.50</td>\n",
       "      <td>4.33</td>\n",
       "      <td>9879</td>\n",
       "    </tr>\n",
       "    <tr>\n",
       "      <th>3251</th>\n",
       "      <td>3252</td>\n",
       "      <td>1729</td>\n",
       "      <td>1729</td>\n",
       "      <td>2012/2013</td>\n",
       "      <td>1</td>\n",
       "      <td>1228232</td>\n",
       "      <td>8456</td>\n",
       "      <td>8466</td>\n",
       "      <td>3</td>\n",
       "      <td>2</td>\n",
       "      <td>...</td>\n",
       "      <td>1.20</td>\n",
       "      <td>7.00</td>\n",
       "      <td>19.00</td>\n",
       "      <td>1.18</td>\n",
       "      <td>6.25</td>\n",
       "      <td>16.00</td>\n",
       "      <td>1.17</td>\n",
       "      <td>6.50</td>\n",
       "      <td>17.00</td>\n",
       "      <td>8456</td>\n",
       "    </tr>\n",
       "    <tr>\n",
       "      <th>3252</th>\n",
       "      <td>3253</td>\n",
       "      <td>1729</td>\n",
       "      <td>1729</td>\n",
       "      <td>2012/2013</td>\n",
       "      <td>1</td>\n",
       "      <td>1228233</td>\n",
       "      <td>10261</td>\n",
       "      <td>8586</td>\n",
       "      <td>2</td>\n",
       "      <td>1</td>\n",
       "      <td>...</td>\n",
       "      <td>2.62</td>\n",
       "      <td>3.40</td>\n",
       "      <td>2.75</td>\n",
       "      <td>2.60</td>\n",
       "      <td>3.30</td>\n",
       "      <td>2.75</td>\n",
       "      <td>2.50</td>\n",
       "      <td>3.40</td>\n",
       "      <td>2.70</td>\n",
       "      <td>10261</td>\n",
       "    </tr>\n",
       "  </tbody>\n",
       "</table>\n",
       "<p>5 rows × 107 columns</p>\n",
       "</div>"
      ],
      "text/plain": [
       "        id  country_id  league_id     season  stage  match_api_id  \\\n",
       "3248  3249        1729       1729  2012/2013      1       1228229   \n",
       "3249  3250        1729       1729  2012/2013      1       1228230   \n",
       "3250  3251        1729       1729  2012/2013      1       1228231   \n",
       "3251  3252        1729       1729  2012/2013      1       1228232   \n",
       "3252  3253        1729       1729  2012/2013      1       1228233   \n",
       "\n",
       "      home_team_api_id  away_team_api_id  home_team_goal  away_team_goal  ...  \\\n",
       "3248              9825              8472               0               0  ...   \n",
       "3249              8668             10260               1               0  ...   \n",
       "3250              9879              9850               5               0  ...   \n",
       "3251              8456              8466               3               2  ...   \n",
       "3252             10261              8586               2               1  ...   \n",
       "\n",
       "       VCH   VCD    VCA   GBH   GBD    GBA   BSH   BSD    BSA  winner  \n",
       "3248  1.44  4.75   8.50  1.35  4.60   9.00  1.40  4.33   8.50    draw  \n",
       "3249  4.30  3.70   1.87  4.60  3.50   1.83  4.00  3.40   1.91    8668  \n",
       "3250  1.83  3.75   4.75  1.80  3.50   4.40  1.83  3.50   4.33    9879  \n",
       "3251  1.20  7.00  19.00  1.18  6.25  16.00  1.17  6.50  17.00    8456  \n",
       "3252  2.62  3.40   2.75  2.60  3.30   2.75  2.50  3.40   2.70   10261  \n",
       "\n",
       "[5 rows x 107 columns]"
      ]
     },
     "execution_count": 53,
     "metadata": {},
     "output_type": "execute_result"
    }
   ],
   "source": [
    "#create a column in Matches to see which is the winner of the match\n",
    "conditions = [(Match['home_team_goal'] > Match['away_team_goal']), (Match['home_team_goal'] < Match['away_team_goal'])]\n",
    "choices = [Match['home_team_api_id'], Match['away_team_api_id']]\n",
    "Match['winner'] = np.select(conditions, choices, default='draw')\n",
    "Match.head()"
   ]
  },
  {
   "cell_type": "code",
   "execution_count": 54,
   "metadata": {},
   "outputs": [],
   "source": [
    "#drop the rows that contain 'draw' as they are not relevant for our analysis\n",
    "Match = Match[Match.winner != 'draw']"
   ]
  },
  {
   "cell_type": "code",
   "execution_count": 55,
   "metadata": {},
   "outputs": [],
   "source": [
    "#convert winner col to an int\n",
    "Match['winner'] = Match['winner'].astype(int)"
   ]
  },
  {
   "cell_type": "code",
   "execution_count": 56,
   "metadata": {
    "scrolled": true
   },
   "outputs": [
    {
     "name": "stdout",
     "output_type": "stream",
     "text": [
      "<class 'pandas.core.frame.DataFrame'>\n",
      "Int64Index: 1304 entries, 3249 to 23416\n",
      "Columns: 107 entries, id to winner\n",
      "dtypes: float64(96), int64(10), object(1)\n",
      "memory usage: 1.1+ MB\n"
     ]
    }
   ],
   "source": [
    "#confirm changes\n",
    "Match.info()"
   ]
  },
  {
   "cell_type": "code",
   "execution_count": 57,
   "metadata": {},
   "outputs": [
    {
     "data": {
      "text/plain": [
       "21518    284\n",
       "10257    271\n",
       "1729     270\n",
       "4769     252\n",
       "7809     227\n",
       "Name: league_id, dtype: int64"
      ]
     },
     "execution_count": 57,
     "metadata": {},
     "output_type": "execute_result"
    }
   ],
   "source": [
    "Match['league_id'].value_counts()"
   ]
  },
  {
   "cell_type": "code",
   "execution_count": 58,
   "metadata": {},
   "outputs": [
    {
     "data": {
      "text/plain": [
       "Text(0, 0.5, 'Wins')"
      ]
     },
     "execution_count": 58,
     "metadata": {},
     "output_type": "execute_result"
    },
    {
     "data": {
      "image/png": "[encoded data removed]",
      "text/plain": [
       "<Figure size 432x288 with 1 Axes>"
      ]
     },
     "metadata": {
      "needs_background": "light"
     },
     "output_type": "display_data"
    }
   ],
   "source": [
    "#plot the overall wins\n",
    "Match.groupby('league_id')['winner'].count().plot(kind='bar', title='Overall Wins');\n",
    "plt.xlabel('Leagues')\n",
    "plt.ylabel('Wins')"
   ]
  },
  {
   "cell_type": "code",
   "execution_count": 59,
   "metadata": {},
   "outputs": [
    {
     "data": {
      "text/plain": [
       "Text(0.5, 1.0, 'Overall Wins')"
      ]
     },
     "execution_count": 59,
     "metadata": {},
     "output_type": "execute_result"
    },
    {
     "data": {
      "image/png": "[encoded data removed]",
      "text/plain": [
       "<Figure size 1584x720 with 1 Axes>"
      ]
     },
     "metadata": {
      "needs_background": "light"
     },
     "output_type": "display_data"
    }
   ],
   "source": [
    "#plot the overall wins\n",
    "Match.groupby('stage')['winner'].count().plot(kind='bar', figsize=(22,10));\n",
    "plt.xlabel('stage', fontsize=20)\n",
    "plt.ylabel('Wins', fontsize=20)\n",
    "plt.title('Overall Wins', fontsize=30)"
   ]
  },
  {
   "cell_type": "markdown",
   "metadata": {},
   "source": [
    "Research Question-1: Who is the most rated player?"
   ]
  },
  {
   "cell_type": "code",
   "execution_count": 60,
   "metadata": {},
   "outputs": [
    {
     "data": {
      "text/html": [
       "<div>\n",
       "<style scoped>\n",
       "    .dataframe tbody tr th:only-of-type {\n",
       "        vertical-align: middle;\n",
       "    }\n",
       "\n",
       "    .dataframe tbody tr th {\n",
       "        vertical-align: top;\n",
       "    }\n",
       "\n",
       "    .dataframe thead th {\n",
       "        text-align: right;\n",
       "    }\n",
       "</style>\n",
       "<table border=\"1\" class=\"dataframe\">\n",
       "  <thead>\n",
       "    <tr style=\"text-align: right;\">\n",
       "      <th></th>\n",
       "      <th>id_x</th>\n",
       "      <th>player_api_id</th>\n",
       "      <th>player_name</th>\n",
       "      <th>player_fifa_api_id_x</th>\n",
       "      <th>birthday</th>\n",
       "      <th>height</th>\n",
       "      <th>weight</th>\n",
       "      <th>id_y</th>\n",
       "      <th>player_fifa_api_id_y</th>\n",
       "      <th>overall_rating</th>\n",
       "      <th>...</th>\n",
       "      <th>vision</th>\n",
       "      <th>penalties</th>\n",
       "      <th>marking</th>\n",
       "      <th>standing_tackle</th>\n",
       "      <th>sliding_tackle</th>\n",
       "      <th>gk_diving</th>\n",
       "      <th>gk_handling</th>\n",
       "      <th>gk_kicking</th>\n",
       "      <th>gk_positioning</th>\n",
       "      <th>gk_reflexes</th>\n",
       "    </tr>\n",
       "  </thead>\n",
       "  <tbody>\n",
       "    <tr>\n",
       "      <th>0</th>\n",
       "      <td>1</td>\n",
       "      <td>505942</td>\n",
       "      <td>Aaron Appindangoye</td>\n",
       "      <td>218353</td>\n",
       "      <td>1992-02-29 00:00:00</td>\n",
       "      <td>182.88</td>\n",
       "      <td>187</td>\n",
       "      <td>1</td>\n",
       "      <td>218353</td>\n",
       "      <td>67.0</td>\n",
       "      <td>...</td>\n",
       "      <td>54.0</td>\n",
       "      <td>48.0</td>\n",
       "      <td>65.0</td>\n",
       "      <td>69.0</td>\n",
       "      <td>69.0</td>\n",
       "      <td>6.0</td>\n",
       "      <td>11.0</td>\n",
       "      <td>10.0</td>\n",
       "      <td>8.0</td>\n",
       "      <td>8.0</td>\n",
       "    </tr>\n",
       "    <tr>\n",
       "      <th>1</th>\n",
       "      <td>1</td>\n",
       "      <td>505942</td>\n",
       "      <td>Aaron Appindangoye</td>\n",
       "      <td>218353</td>\n",
       "      <td>1992-02-29 00:00:00</td>\n",
       "      <td>182.88</td>\n",
       "      <td>187</td>\n",
       "      <td>2</td>\n",
       "      <td>218353</td>\n",
       "      <td>67.0</td>\n",
       "      <td>...</td>\n",
       "      <td>54.0</td>\n",
       "      <td>48.0</td>\n",
       "      <td>65.0</td>\n",
       "      <td>69.0</td>\n",
       "      <td>69.0</td>\n",
       "      <td>6.0</td>\n",
       "      <td>11.0</td>\n",
       "      <td>10.0</td>\n",
       "      <td>8.0</td>\n",
       "      <td>8.0</td>\n",
       "    </tr>\n",
       "    <tr>\n",
       "      <th>2</th>\n",
       "      <td>1</td>\n",
       "      <td>505942</td>\n",
       "      <td>Aaron Appindangoye</td>\n",
       "      <td>218353</td>\n",
       "      <td>1992-02-29 00:00:00</td>\n",
       "      <td>182.88</td>\n",
       "      <td>187</td>\n",
       "      <td>3</td>\n",
       "      <td>218353</td>\n",
       "      <td>62.0</td>\n",
       "      <td>...</td>\n",
       "      <td>54.0</td>\n",
       "      <td>48.0</td>\n",
       "      <td>65.0</td>\n",
       "      <td>66.0</td>\n",
       "      <td>69.0</td>\n",
       "      <td>6.0</td>\n",
       "      <td>11.0</td>\n",
       "      <td>10.0</td>\n",
       "      <td>8.0</td>\n",
       "      <td>8.0</td>\n",
       "    </tr>\n",
       "    <tr>\n",
       "      <th>3</th>\n",
       "      <td>1</td>\n",
       "      <td>505942</td>\n",
       "      <td>Aaron Appindangoye</td>\n",
       "      <td>218353</td>\n",
       "      <td>1992-02-29 00:00:00</td>\n",
       "      <td>182.88</td>\n",
       "      <td>187</td>\n",
       "      <td>4</td>\n",
       "      <td>218353</td>\n",
       "      <td>61.0</td>\n",
       "      <td>...</td>\n",
       "      <td>53.0</td>\n",
       "      <td>47.0</td>\n",
       "      <td>62.0</td>\n",
       "      <td>63.0</td>\n",
       "      <td>66.0</td>\n",
       "      <td>5.0</td>\n",
       "      <td>10.0</td>\n",
       "      <td>9.0</td>\n",
       "      <td>7.0</td>\n",
       "      <td>7.0</td>\n",
       "    </tr>\n",
       "    <tr>\n",
       "      <th>4</th>\n",
       "      <td>1</td>\n",
       "      <td>505942</td>\n",
       "      <td>Aaron Appindangoye</td>\n",
       "      <td>218353</td>\n",
       "      <td>1992-02-29 00:00:00</td>\n",
       "      <td>182.88</td>\n",
       "      <td>187</td>\n",
       "      <td>5</td>\n",
       "      <td>218353</td>\n",
       "      <td>61.0</td>\n",
       "      <td>...</td>\n",
       "      <td>53.0</td>\n",
       "      <td>47.0</td>\n",
       "      <td>62.0</td>\n",
       "      <td>63.0</td>\n",
       "      <td>66.0</td>\n",
       "      <td>5.0</td>\n",
       "      <td>10.0</td>\n",
       "      <td>9.0</td>\n",
       "      <td>7.0</td>\n",
       "      <td>7.0</td>\n",
       "    </tr>\n",
       "  </tbody>\n",
       "</table>\n",
       "<p>5 rows × 46 columns</p>\n",
       "</div>"
      ],
      "text/plain": [
       "   id_x  player_api_id         player_name  player_fifa_api_id_x  \\\n",
       "0     1         505942  Aaron Appindangoye                218353   \n",
       "1     1         505942  Aaron Appindangoye                218353   \n",
       "2     1         505942  Aaron Appindangoye                218353   \n",
       "3     1         505942  Aaron Appindangoye                218353   \n",
       "4     1         505942  Aaron Appindangoye                218353   \n",
       "\n",
       "              birthday  height  weight  id_y  player_fifa_api_id_y  \\\n",
       "0  1992-02-29 00:00:00  182.88     187     1                218353   \n",
       "1  1992-02-29 00:00:00  182.88     187     2                218353   \n",
       "2  1992-02-29 00:00:00  182.88     187     3                218353   \n",
       "3  1992-02-29 00:00:00  182.88     187     4                218353   \n",
       "4  1992-02-29 00:00:00  182.88     187     5                218353   \n",
       "\n",
       "   overall_rating  ...  vision penalties marking  standing_tackle  \\\n",
       "0            67.0  ...    54.0      48.0    65.0             69.0   \n",
       "1            67.0  ...    54.0      48.0    65.0             69.0   \n",
       "2            62.0  ...    54.0      48.0    65.0             66.0   \n",
       "3            61.0  ...    53.0      47.0    62.0             63.0   \n",
       "4            61.0  ...    53.0      47.0    62.0             63.0   \n",
       "\n",
       "   sliding_tackle  gk_diving  gk_handling  gk_kicking  gk_positioning  \\\n",
       "0            69.0        6.0         11.0        10.0             8.0   \n",
       "1            69.0        6.0         11.0        10.0             8.0   \n",
       "2            69.0        6.0         11.0        10.0             8.0   \n",
       "3            66.0        5.0         10.0         9.0             7.0   \n",
       "4            66.0        5.0         10.0         9.0             7.0   \n",
       "\n",
       "   gk_reflexes  \n",
       "0          8.0  \n",
       "1          8.0  \n",
       "2          8.0  \n",
       "3          7.0  \n",
       "4          7.0  \n",
       "\n",
       "[5 rows x 46 columns]"
      ]
     },
     "execution_count": 60,
     "metadata": {},
     "output_type": "execute_result"
    }
   ],
   "source": [
    "player.head()"
   ]
  },
  {
   "cell_type": "code",
   "execution_count": 61,
   "metadata": {},
   "outputs": [
    {
     "data": {
      "text/plain": [
       "68.63531720948801"
      ]
     },
     "execution_count": 61,
     "metadata": {},
     "output_type": "execute_result"
    }
   ],
   "source": [
    "#average rating\n",
    "player['overall_rating'].mean()"
   ]
  },
  {
   "cell_type": "code",
   "execution_count": 62,
   "metadata": {},
   "outputs": [
    {
     "data": {
      "text/plain": [
       "92427"
      ]
     },
     "execution_count": 62,
     "metadata": {},
     "output_type": "execute_result"
    }
   ],
   "source": [
    "#count players above average rating\n",
    "above = player.query('overall_rating > overall_rating.mean()')\n",
    "above['overall_rating'].count()"
   ]
  },
  {
   "cell_type": "code",
   "execution_count": 63,
   "metadata": {},
   "outputs": [
    {
     "data": {
      "text/plain": [
       "87927"
      ]
     },
     "execution_count": 63,
     "metadata": {},
     "output_type": "execute_result"
    }
   ],
   "source": [
    "#count players below average rating\n",
    "below = player.query('overall_rating < overall_rating.mean()')\n",
    "below['overall_rating'].count()"
   ]
  },
  {
   "cell_type": "code",
   "execution_count": 64,
   "metadata": {},
   "outputs": [
    {
     "data": {
      "text/plain": [
       "id_x                                      11075\n",
       "player_api_id                            722766\n",
       "player_name             dos Santos Fabio Junior\n",
       "player_fifa_api_id_x                     232693\n",
       "birthday                    1999-02-25 00:00:00\n",
       "height                                    203.2\n",
       "weight                                      243\n",
       "id_y                                     183978\n",
       "player_fifa_api_id_y                     232693\n",
       "overall_rating                             94.0\n",
       "potential                                  97.0\n",
       "attacking_work_rate                           y\n",
       "defensive_work_rate                       tocky\n",
       "crossing                                   95.0\n",
       "finishing                                  97.0\n",
       "heading_accuracy                           98.0\n",
       "short_passing                              97.0\n",
       "volleys                                    93.0\n",
       "dribbling                                  97.0\n",
       "curve                                      94.0\n",
       "free_kick_accuracy                         97.0\n",
       "long_passing                               97.0\n",
       "ball_control                               97.0\n",
       "acceleration                               97.0\n",
       "sprint_speed                               97.0\n",
       "agility                                    96.0\n",
       "reactions                                  96.0\n",
       "balance                                    96.0\n",
       "shot_power                                 97.0\n",
       "jumping                                    96.0\n",
       "stamina                                    96.0\n",
       "strength                                   96.0\n",
       "long_shots                                 96.0\n",
       "aggression                                 97.0\n",
       "interceptions                              96.0\n",
       "positioning                                95.0\n",
       "vision                                     97.0\n",
       "penalties                                  96.0\n",
       "marking                                    94.0\n",
       "standing_tackle                            95.0\n",
       "sliding_tackle                             95.0\n",
       "gk_diving                                  94.0\n",
       "gk_handling                                93.0\n",
       "gk_kicking                                 97.0\n",
       "gk_positioning                             96.0\n",
       "gk_reflexes                                96.0\n",
       "dtype: object"
      ]
     },
     "execution_count": 64,
     "metadata": {},
     "output_type": "execute_result"
    }
   ],
   "source": [
    "#the most rated player\n",
    "above.max()"
   ]
  },
  {
   "cell_type": "markdown",
   "metadata": {},
   "source": [
    "With an aggregate rating of 94, dos Santos Fabio Junior is the highest-rated player."
   ]
  },
  {
   "cell_type": "markdown",
   "metadata": {},
   "source": [
    "Research Question-2: What are the attributes that contribute to the players' overall rating?"
   ]
  },
  {
   "cell_type": "code",
   "execution_count": 65,
   "metadata": {},
   "outputs": [
    {
     "data": {
      "image/png": "[encoded data removed]",
      "text/plain": [
       "<Figure size 432x288 with 1 Axes>"
      ]
     },
     "metadata": {
      "needs_background": "light"
     },
     "output_type": "display_data"
    }
   ],
   "source": [
    "#relationship between rating and heading accuracy\n",
    "player.plot(x='heading_accuracy', y='overall_rating', kind='scatter');"
   ]
  },
  {
   "cell_type": "markdown",
   "metadata": {},
   "source": [
    "There is a positive correlation between heading accuracy and overall rating."
   ]
  },
  {
   "cell_type": "code",
   "execution_count": 66,
   "metadata": {},
   "outputs": [
    {
     "data": {
      "image/png": "[encoded data removed]",
      "text/plain": [
       "<Figure size 432x288 with 1 Axes>"
      ]
     },
     "metadata": {
      "needs_background": "light"
     },
     "output_type": "display_data"
    }
   ],
   "source": [
    "#relationship between rating and free kick accuracy\n",
    "player.plot(x='free_kick_accuracy', y='overall_rating', kind='scatter');"
   ]
  },
  {
   "cell_type": "markdown",
   "metadata": {},
   "source": [
    "Free kick accuracy doesn't have a strong impact in overall rating."
   ]
  },
  {
   "cell_type": "code",
   "execution_count": 67,
   "metadata": {},
   "outputs": [
    {
     "data": {
      "image/png": "[encoded data removed]",
      "text/plain": [
       "<Figure size 432x288 with 1 Axes>"
      ]
     },
     "metadata": {
      "needs_background": "light"
     },
     "output_type": "display_data"
    }
   ],
   "source": [
    "#relationship between rating and ball control\n",
    "player.plot(x='ball_control', y='overall_rating', kind='scatter');\n"
   ]
  },
  {
   "cell_type": "markdown",
   "metadata": {},
   "source": [
    "There is a strong positive correlation between overall rating and ball control."
   ]
  },
  {
   "cell_type": "code",
   "execution_count": 68,
   "metadata": {},
   "outputs": [
    {
     "data": {
      "image/png": "[encoded data removed]",
      "text/plain": [
       "<Figure size 432x288 with 1 Axes>"
      ]
     },
     "metadata": {
      "needs_background": "light"
     },
     "output_type": "display_data"
    }
   ],
   "source": [
    "#relationship between rating and sprint speed\n",
    "player.plot(x='sprint_speed', y='overall_rating', kind='scatter');"
   ]
  },
  {
   "cell_type": "markdown",
   "metadata": {},
   "source": [
    "Strong positive correlation between overall rating and sprint speed."
   ]
  },
  {
   "cell_type": "code",
   "execution_count": 69,
   "metadata": {},
   "outputs": [
    {
     "data": {
      "image/png": "[encoded data removed]",
      "text/plain": [
       "<Figure size 432x288 with 1 Axes>"
      ]
     },
     "metadata": {
      "needs_background": "light"
     },
     "output_type": "display_data"
    }
   ],
   "source": [
    "#relationship between rating and long shots\n",
    "player.plot(x='long_shots', y='overall_rating', kind='scatter');"
   ]
  },
  {
   "cell_type": "markdown",
   "metadata": {},
   "source": [
    "Positive correlation between long shots and overall rating."
   ]
  },
  {
   "cell_type": "code",
   "execution_count": 70,
   "metadata": {},
   "outputs": [
    {
     "data": {
      "image/png": "[encoded data removed]",
      "text/plain": [
       "<Figure size 432x288 with 1 Axes>"
      ]
     },
     "metadata": {
      "needs_background": "light"
     },
     "output_type": "display_data"
    }
   ],
   "source": [
    "#relationship between rating and shot power\n",
    "player.plot(x='shot_power', y='overall_rating', kind='scatter');"
   ]
  },
  {
   "cell_type": "markdown",
   "metadata": {},
   "source": [
    "\n",
    "Strong correlation between shot power and overall rating."
   ]
  },
  {
   "cell_type": "code",
   "execution_count": 71,
   "metadata": {},
   "outputs": [
    {
     "data": {
      "image/png": "[encoded data removed]",
      "text/plain": [
       "<Figure size 432x288 with 1 Axes>"
      ]
     },
     "metadata": {
      "needs_background": "light"
     },
     "output_type": "display_data"
    }
   ],
   "source": [
    "#relationship between rating and marking\n",
    "player.plot(x='marking', y='overall_rating', kind='scatter');"
   ]
  },
  {
   "cell_type": "markdown",
   "metadata": {},
   "source": [
    "I cannot assert that there is a link between marking and total grade."
   ]
  },
  {
   "cell_type": "code",
   "execution_count": 72,
   "metadata": {},
   "outputs": [
    {
     "data": {
      "image/png": "[encoded data removed]",
      "text/plain": [
       "<Figure size 432x288 with 1 Axes>"
      ]
     },
     "metadata": {
      "needs_background": "light"
     },
     "output_type": "display_data"
    }
   ],
   "source": [
    "#relationship between rating and dribbling\n",
    "player.plot(x='dribbling', y='overall_rating', kind='scatter');"
   ]
  },
  {
   "cell_type": "markdown",
   "metadata": {},
   "source": [
    "Strong positive correlation between overall rating and dribbling."
   ]
  },
  {
   "cell_type": "code",
   "execution_count": 73,
   "metadata": {},
   "outputs": [
    {
     "data": {
      "image/png": "[encoded data removed]",
      "text/plain": [
       "<Figure size 432x288 with 1 Axes>"
      ]
     },
     "metadata": {
      "needs_background": "light"
     },
     "output_type": "display_data"
    }
   ],
   "source": [
    "#relationship between rating and strength\n",
    "player.plot(x='strength', y='overall_rating', kind='scatter');"
   ]
  },
  {
   "cell_type": "markdown",
   "metadata": {},
   "source": [
    "- Strong link between strength and rating overall\n",
    "- The following traits contribute to a player's total rating: heading accuracy, ball control, sprint speed, long shoots, shooting power, dribbling ability, and strength.\n",
    "- Representation of 'attacking work rate' and 'defensive work rate' as a pie chart."
   ]
  },
  {
   "cell_type": "code",
   "execution_count": 74,
   "metadata": {},
   "outputs": [
    {
     "data": {
      "image/png": "[encoded data removed]",
      "text/plain": [
       "<Figure size 720x720 with 1 Axes>"
      ]
     },
     "metadata": {},
     "output_type": "display_data"
    }
   ],
   "source": [
    "pieChart = player[\"attacking_work_rate\"].value_counts().plot.pie(figsize=(10,10), autopct='%1.1f%%', fontsize = 12);\n",
    "plt.legend();"
   ]
  },
  {
   "cell_type": "code",
   "execution_count": 75,
   "metadata": {},
   "outputs": [
    {
     "data": {
      "image/png": "[encoded data removed]",
      "text/plain": [
       "<Figure size 864x864 with 1 Axes>"
      ]
     },
     "metadata": {},
     "output_type": "display_data"
    }
   ],
   "source": [
    "pieChart = player[\"defensive_work_rate\"].value_counts().plot.pie(figsize=(12,12), autopct='%1.1f%%', fontsize = 12);\n",
    "plt.legend();"
   ]
  },
  {
   "cell_type": "markdown",
   "metadata": {},
   "source": [
    "Pie chart representation of team attribute."
   ]
  },
  {
   "cell_type": "code",
   "execution_count": 76,
   "metadata": {},
   "outputs": [
    {
     "data": {
      "text/html": [
       "<div>\n",
       "<style scoped>\n",
       "    .dataframe tbody tr th:only-of-type {\n",
       "        vertical-align: middle;\n",
       "    }\n",
       "\n",
       "    .dataframe tbody tr th {\n",
       "        vertical-align: top;\n",
       "    }\n",
       "\n",
       "    .dataframe thead th {\n",
       "        text-align: right;\n",
       "    }\n",
       "</style>\n",
       "<table border=\"1\" class=\"dataframe\">\n",
       "  <thead>\n",
       "    <tr style=\"text-align: right;\">\n",
       "      <th></th>\n",
       "      <th>id_x</th>\n",
       "      <th>team_api_id</th>\n",
       "      <th>team_fifa_api_id_x</th>\n",
       "      <th>id_y</th>\n",
       "      <th>team_fifa_api_id_y</th>\n",
       "      <th>buildUpPlaySpeed</th>\n",
       "      <th>buildUpPlaySpeedClass</th>\n",
       "      <th>buildUpPlayDribbling</th>\n",
       "      <th>buildUpPlayDribblingClass</th>\n",
       "      <th>buildUpPlayPassing</th>\n",
       "      <th>...</th>\n",
       "      <th>chanceCreationShooting</th>\n",
       "      <th>chanceCreationShootingClass</th>\n",
       "      <th>chanceCreationPositioningClass</th>\n",
       "      <th>defencePressure</th>\n",
       "      <th>defencePressureClass</th>\n",
       "      <th>defenceAggression</th>\n",
       "      <th>defenceAggressionClass</th>\n",
       "      <th>defenceTeamWidth</th>\n",
       "      <th>defenceTeamWidthClass</th>\n",
       "      <th>defenceDefenderLineClass</th>\n",
       "    </tr>\n",
       "  </thead>\n",
       "  <tbody>\n",
       "    <tr>\n",
       "      <th>4</th>\n",
       "      <td>1</td>\n",
       "      <td>9987</td>\n",
       "      <td>673.0</td>\n",
       "      <td>489</td>\n",
       "      <td>673</td>\n",
       "      <td>58</td>\n",
       "      <td>Balanced</td>\n",
       "      <td>52.0</td>\n",
       "      <td>Normal</td>\n",
       "      <td>38</td>\n",
       "      <td>...</td>\n",
       "      <td>56</td>\n",
       "      <td>Normal</td>\n",
       "      <td>Organised</td>\n",
       "      <td>47</td>\n",
       "      <td>Medium</td>\n",
       "      <td>45</td>\n",
       "      <td>Press</td>\n",
       "      <td>55</td>\n",
       "      <td>Normal</td>\n",
       "      <td>Cover</td>\n",
       "    </tr>\n",
       "    <tr>\n",
       "      <th>5</th>\n",
       "      <td>1</td>\n",
       "      <td>9987</td>\n",
       "      <td>673.0</td>\n",
       "      <td>490</td>\n",
       "      <td>673</td>\n",
       "      <td>58</td>\n",
       "      <td>Balanced</td>\n",
       "      <td>52.0</td>\n",
       "      <td>Normal</td>\n",
       "      <td>38</td>\n",
       "      <td>...</td>\n",
       "      <td>56</td>\n",
       "      <td>Normal</td>\n",
       "      <td>Organised</td>\n",
       "      <td>36</td>\n",
       "      <td>Medium</td>\n",
       "      <td>57</td>\n",
       "      <td>Press</td>\n",
       "      <td>70</td>\n",
       "      <td>Wide</td>\n",
       "      <td>Cover</td>\n",
       "    </tr>\n",
       "    <tr>\n",
       "      <th>14</th>\n",
       "      <td>3</td>\n",
       "      <td>10000</td>\n",
       "      <td>15005.0</td>\n",
       "      <td>1457</td>\n",
       "      <td>15005</td>\n",
       "      <td>54</td>\n",
       "      <td>Balanced</td>\n",
       "      <td>42.0</td>\n",
       "      <td>Normal</td>\n",
       "      <td>51</td>\n",
       "      <td>...</td>\n",
       "      <td>32</td>\n",
       "      <td>Little</td>\n",
       "      <td>Organised</td>\n",
       "      <td>44</td>\n",
       "      <td>Medium</td>\n",
       "      <td>58</td>\n",
       "      <td>Press</td>\n",
       "      <td>37</td>\n",
       "      <td>Normal</td>\n",
       "      <td>Cover</td>\n",
       "    </tr>\n",
       "    <tr>\n",
       "      <th>15</th>\n",
       "      <td>3</td>\n",
       "      <td>10000</td>\n",
       "      <td>15005.0</td>\n",
       "      <td>1458</td>\n",
       "      <td>15005</td>\n",
       "      <td>54</td>\n",
       "      <td>Balanced</td>\n",
       "      <td>42.0</td>\n",
       "      <td>Normal</td>\n",
       "      <td>51</td>\n",
       "      <td>...</td>\n",
       "      <td>32</td>\n",
       "      <td>Little</td>\n",
       "      <td>Organised</td>\n",
       "      <td>44</td>\n",
       "      <td>Medium</td>\n",
       "      <td>58</td>\n",
       "      <td>Press</td>\n",
       "      <td>37</td>\n",
       "      <td>Normal</td>\n",
       "      <td>Cover</td>\n",
       "    </tr>\n",
       "    <tr>\n",
       "      <th>20</th>\n",
       "      <td>4</td>\n",
       "      <td>9994</td>\n",
       "      <td>2007.0</td>\n",
       "      <td>763</td>\n",
       "      <td>2007</td>\n",
       "      <td>62</td>\n",
       "      <td>Balanced</td>\n",
       "      <td>45.0</td>\n",
       "      <td>Normal</td>\n",
       "      <td>52</td>\n",
       "      <td>...</td>\n",
       "      <td>62</td>\n",
       "      <td>Normal</td>\n",
       "      <td>Organised</td>\n",
       "      <td>45</td>\n",
       "      <td>Medium</td>\n",
       "      <td>52</td>\n",
       "      <td>Press</td>\n",
       "      <td>52</td>\n",
       "      <td>Normal</td>\n",
       "      <td>Cover</td>\n",
       "    </tr>\n",
       "  </tbody>\n",
       "</table>\n",
       "<p>5 rows × 26 columns</p>\n",
       "</div>"
      ],
      "text/plain": [
       "    id_x  team_api_id  team_fifa_api_id_x  id_y  team_fifa_api_id_y  \\\n",
       "4      1         9987               673.0   489                 673   \n",
       "5      1         9987               673.0   490                 673   \n",
       "14     3        10000             15005.0  1457               15005   \n",
       "15     3        10000             15005.0  1458               15005   \n",
       "20     4         9994              2007.0   763                2007   \n",
       "\n",
       "    buildUpPlaySpeed buildUpPlaySpeedClass  buildUpPlayDribbling  \\\n",
       "4                 58              Balanced                  52.0   \n",
       "5                 58              Balanced                  52.0   \n",
       "14                54              Balanced                  42.0   \n",
       "15                54              Balanced                  42.0   \n",
       "20                62              Balanced                  45.0   \n",
       "\n",
       "   buildUpPlayDribblingClass  buildUpPlayPassing  ... chanceCreationShooting  \\\n",
       "4                     Normal                  38  ...                     56   \n",
       "5                     Normal                  38  ...                     56   \n",
       "14                    Normal                  51  ...                     32   \n",
       "15                    Normal                  51  ...                     32   \n",
       "20                    Normal                  52  ...                     62   \n",
       "\n",
       "   chanceCreationShootingClass  chanceCreationPositioningClass  \\\n",
       "4                       Normal                       Organised   \n",
       "5                       Normal                       Organised   \n",
       "14                      Little                       Organised   \n",
       "15                      Little                       Organised   \n",
       "20                      Normal                       Organised   \n",
       "\n",
       "   defencePressure  defencePressureClass defenceAggression  \\\n",
       "4               47                Medium                45   \n",
       "5               36                Medium                57   \n",
       "14              44                Medium                58   \n",
       "15              44                Medium                58   \n",
       "20              45                Medium                52   \n",
       "\n",
       "    defenceAggressionClass defenceTeamWidth defenceTeamWidthClass  \\\n",
       "4                    Press               55                Normal   \n",
       "5                    Press               70                  Wide   \n",
       "14                   Press               37                Normal   \n",
       "15                   Press               37                Normal   \n",
       "20                   Press               52                Normal   \n",
       "\n",
       "    defenceDefenderLineClass  \n",
       "4                      Cover  \n",
       "5                      Cover  \n",
       "14                     Cover  \n",
       "15                     Cover  \n",
       "20                     Cover  \n",
       "\n",
       "[5 rows x 26 columns]"
      ]
     },
     "execution_count": 76,
     "metadata": {},
     "output_type": "execute_result"
    }
   ],
   "source": [
    "Team.head(5)"
   ]
  },
  {
   "cell_type": "code",
   "execution_count": 77,
   "metadata": {},
   "outputs": [
    {
     "data": {
      "image/png": "[encoded data removed]",
      "text/plain": [
       "<Figure size 720x720 with 1 Axes>"
      ]
     },
     "metadata": {},
     "output_type": "display_data"
    }
   ],
   "source": [
    "pieChart = Team[\"buildUpPlaySpeedClass\"].value_counts().plot.pie(figsize=(10,10), autopct='%1.1f%%', fontsize = 12);\n",
    "plt.legend();"
   ]
  },
  {
   "cell_type": "code",
   "execution_count": 78,
   "metadata": {},
   "outputs": [
    {
     "data": {
      "image/png": "[encoded data removed]",
      "text/plain": [
       "<Figure size 720x720 with 1 Axes>"
      ]
     },
     "metadata": {},
     "output_type": "display_data"
    }
   ],
   "source": [
    "pieChart = Team[\"buildUpPlayDribblingClass\"].value_counts().plot.pie(figsize=(10,10), autopct='%1.1f%%', fontsize = 12);\n",
    "plt.legend();"
   ]
  },
  {
   "cell_type": "code",
   "execution_count": 79,
   "metadata": {},
   "outputs": [
    {
     "data": {
      "image/png": "[encoded data removed]",
      "text/plain": [
       "<Figure size 720x720 with 1 Axes>"
      ]
     },
     "metadata": {},
     "output_type": "display_data"
    }
   ],
   "source": [
    "pieChart = Team[\"chanceCreationShootingClass\"].value_counts().plot.pie(figsize=(10,10), autopct='%1.1f%%', fontsize = 12);\n",
    "plt.legend();"
   ]
  },
  {
   "cell_type": "code",
   "execution_count": 80,
   "metadata": {},
   "outputs": [
    {
     "data": {
      "image/png": "[encoded data removed]",
      "text/plain": [
       "<Figure size 720x720 with 1 Axes>"
      ]
     },
     "metadata": {},
     "output_type": "display_data"
    }
   ],
   "source": [
    "pieChart = Team[\"chanceCreationPositioningClass\"].value_counts().plot.pie(figsize=(10,10), autopct='%1.1f%%', fontsize = 12);\n",
    "plt.legend();"
   ]
  },
  {
   "cell_type": "code",
   "execution_count": 81,
   "metadata": {},
   "outputs": [
    {
     "data": {
      "image/png": "[encoded data removed]",
      "text/plain": [
       "<Figure size 720x720 with 1 Axes>"
      ]
     },
     "metadata": {},
     "output_type": "display_data"
    }
   ],
   "source": [
    "pieChart = Team[\"defencePressureClass\"].value_counts().plot.pie(figsize=(10,10), autopct='%1.1f%%', fontsize = 12);\n",
    "plt.legend();"
   ]
  },
  {
   "cell_type": "code",
   "execution_count": 82,
   "metadata": {},
   "outputs": [
    {
     "data": {
      "image/png": "[encoded data removed]",
      "text/plain": [
       "<Figure size 720x720 with 1 Axes>"
      ]
     },
     "metadata": {},
     "output_type": "display_data"
    }
   ],
   "source": [
    "pieChart = Team[\"defenceAggressionClass\"].value_counts().plot.pie(figsize=(10,10), autopct='%1.1f%%', fontsize = 12);\n",
    "plt.legend();"
   ]
  },
  {
   "cell_type": "code",
   "execution_count": 83,
   "metadata": {},
   "outputs": [
    {
     "data": {
      "image/png": "[encoded data removed]",
      "text/plain": [
       "<Figure size 720x720 with 1 Axes>"
      ]
     },
     "metadata": {},
     "output_type": "display_data"
    }
   ],
   "source": [
    "pieChart = Team[\"defenceTeamWidthClass\"].value_counts().plot.pie(figsize=(10,10), autopct='%1.1f%%', fontsize = 12);\n",
    "plt.legend();"
   ]
  },
  {
   "cell_type": "code",
   "execution_count": 84,
   "metadata": {},
   "outputs": [
    {
     "data": {
      "image/png": "[encoded data removed]",
      "text/plain": [
       "<Figure size 720x720 with 1 Axes>"
      ]
     },
     "metadata": {},
     "output_type": "display_data"
    }
   ],
   "source": [
    "pieChart = Team[\"defenceDefenderLineClass\"].value_counts().plot.pie(figsize=(10,10), autopct='%1.1f%%', fontsize = 12);\n",
    "plt.legend();"
   ]
  },
  {
   "cell_type": "markdown",
   "metadata": {},
   "source": [
    "Research Question-3: What team attributes lead to the most victories?"
   ]
  },
  {
   "cell_type": "code",
   "execution_count": 85,
   "metadata": {},
   "outputs": [
    {
     "data": {
      "text/html": [
       "<div>\n",
       "<style scoped>\n",
       "    .dataframe tbody tr th:only-of-type {\n",
       "        vertical-align: middle;\n",
       "    }\n",
       "\n",
       "    .dataframe tbody tr th {\n",
       "        vertical-align: top;\n",
       "    }\n",
       "\n",
       "    .dataframe thead th {\n",
       "        text-align: right;\n",
       "    }\n",
       "</style>\n",
       "<table border=\"1\" class=\"dataframe\">\n",
       "  <thead>\n",
       "    <tr style=\"text-align: right;\">\n",
       "      <th></th>\n",
       "      <th>id_x</th>\n",
       "      <th>team_api_id</th>\n",
       "      <th>team_fifa_api_id_x</th>\n",
       "      <th>id_y</th>\n",
       "      <th>team_fifa_api_id_y</th>\n",
       "      <th>buildUpPlaySpeed</th>\n",
       "      <th>buildUpPlaySpeedClass</th>\n",
       "      <th>buildUpPlayDribbling</th>\n",
       "      <th>buildUpPlayDribblingClass</th>\n",
       "      <th>buildUpPlayPassing</th>\n",
       "      <th>...</th>\n",
       "      <th>chanceCreationShooting</th>\n",
       "      <th>chanceCreationShootingClass</th>\n",
       "      <th>chanceCreationPositioningClass</th>\n",
       "      <th>defencePressure</th>\n",
       "      <th>defencePressureClass</th>\n",
       "      <th>defenceAggression</th>\n",
       "      <th>defenceAggressionClass</th>\n",
       "      <th>defenceTeamWidth</th>\n",
       "      <th>defenceTeamWidthClass</th>\n",
       "      <th>defenceDefenderLineClass</th>\n",
       "    </tr>\n",
       "  </thead>\n",
       "  <tbody>\n",
       "    <tr>\n",
       "      <th>4</th>\n",
       "      <td>1</td>\n",
       "      <td>9987</td>\n",
       "      <td>673.0</td>\n",
       "      <td>489</td>\n",
       "      <td>673</td>\n",
       "      <td>58</td>\n",
       "      <td>Balanced</td>\n",
       "      <td>52.0</td>\n",
       "      <td>Normal</td>\n",
       "      <td>38</td>\n",
       "      <td>...</td>\n",
       "      <td>56</td>\n",
       "      <td>Normal</td>\n",
       "      <td>Organised</td>\n",
       "      <td>47</td>\n",
       "      <td>Medium</td>\n",
       "      <td>45</td>\n",
       "      <td>Press</td>\n",
       "      <td>55</td>\n",
       "      <td>Normal</td>\n",
       "      <td>Cover</td>\n",
       "    </tr>\n",
       "  </tbody>\n",
       "</table>\n",
       "<p>1 rows × 26 columns</p>\n",
       "</div>"
      ],
      "text/plain": [
       "   id_x  team_api_id  team_fifa_api_id_x  id_y  team_fifa_api_id_y  \\\n",
       "4     1         9987               673.0   489                 673   \n",
       "\n",
       "   buildUpPlaySpeed buildUpPlaySpeedClass  buildUpPlayDribbling  \\\n",
       "4                58              Balanced                  52.0   \n",
       "\n",
       "  buildUpPlayDribblingClass  buildUpPlayPassing  ... chanceCreationShooting  \\\n",
       "4                    Normal                  38  ...                     56   \n",
       "\n",
       "  chanceCreationShootingClass  chanceCreationPositioningClass defencePressure  \\\n",
       "4                      Normal                       Organised              47   \n",
       "\n",
       "   defencePressureClass defenceAggression  defenceAggressionClass  \\\n",
       "4                Medium                45                   Press   \n",
       "\n",
       "  defenceTeamWidth defenceTeamWidthClass  defenceDefenderLineClass  \n",
       "4               55                Normal                     Cover  \n",
       "\n",
       "[1 rows x 26 columns]"
      ]
     },
     "execution_count": 85,
     "metadata": {},
     "output_type": "execute_result"
    }
   ],
   "source": [
    "Team.head(1)"
   ]
  },
  {
   "cell_type": "code",
   "execution_count": 86,
   "metadata": {},
   "outputs": [
    {
     "data": {
      "text/html": [
       "<div>\n",
       "<style scoped>\n",
       "    .dataframe tbody tr th:only-of-type {\n",
       "        vertical-align: middle;\n",
       "    }\n",
       "\n",
       "    .dataframe tbody tr th {\n",
       "        vertical-align: top;\n",
       "    }\n",
       "\n",
       "    .dataframe thead th {\n",
       "        text-align: right;\n",
       "    }\n",
       "</style>\n",
       "<table border=\"1\" class=\"dataframe\">\n",
       "  <thead>\n",
       "    <tr style=\"text-align: right;\">\n",
       "      <th></th>\n",
       "      <th>id_x</th>\n",
       "      <th>team_api_id</th>\n",
       "      <th>team_fifa_api_id_x</th>\n",
       "      <th>id_y</th>\n",
       "      <th>team_fifa_api_id_y</th>\n",
       "      <th>buildUpPlaySpeed</th>\n",
       "      <th>buildUpPlaySpeedClass</th>\n",
       "      <th>buildUpPlayDribbling</th>\n",
       "      <th>buildUpPlayDribblingClass</th>\n",
       "      <th>buildUpPlayPassing</th>\n",
       "      <th>...</th>\n",
       "      <th>chanceCreationShooting</th>\n",
       "      <th>chanceCreationShootingClass</th>\n",
       "      <th>chanceCreationPositioningClass</th>\n",
       "      <th>defencePressure</th>\n",
       "      <th>defencePressureClass</th>\n",
       "      <th>defenceAggression</th>\n",
       "      <th>defenceAggressionClass</th>\n",
       "      <th>defenceTeamWidth</th>\n",
       "      <th>defenceTeamWidthClass</th>\n",
       "      <th>defenceDefenderLineClass</th>\n",
       "    </tr>\n",
       "  </thead>\n",
       "  <tbody>\n",
       "    <tr>\n",
       "      <th>1255</th>\n",
       "      <td>43042</td>\n",
       "      <td>8634</td>\n",
       "      <td>241.0</td>\n",
       "      <td>123</td>\n",
       "      <td>241</td>\n",
       "      <td>35</td>\n",
       "      <td>Balanced</td>\n",
       "      <td>35.0</td>\n",
       "      <td>Normal</td>\n",
       "      <td>32</td>\n",
       "      <td>...</td>\n",
       "      <td>35</td>\n",
       "      <td>Normal</td>\n",
       "      <td>Free Form</td>\n",
       "      <td>61</td>\n",
       "      <td>Medium</td>\n",
       "      <td>63</td>\n",
       "      <td>Press</td>\n",
       "      <td>65</td>\n",
       "      <td>Normal</td>\n",
       "      <td>Cover</td>\n",
       "    </tr>\n",
       "    <tr>\n",
       "      <th>1256</th>\n",
       "      <td>43042</td>\n",
       "      <td>8634</td>\n",
       "      <td>241.0</td>\n",
       "      <td>124</td>\n",
       "      <td>241</td>\n",
       "      <td>36</td>\n",
       "      <td>Balanced</td>\n",
       "      <td>35.0</td>\n",
       "      <td>Normal</td>\n",
       "      <td>51</td>\n",
       "      <td>...</td>\n",
       "      <td>56</td>\n",
       "      <td>Normal</td>\n",
       "      <td>Free Form</td>\n",
       "      <td>61</td>\n",
       "      <td>Medium</td>\n",
       "      <td>65</td>\n",
       "      <td>Press</td>\n",
       "      <td>65</td>\n",
       "      <td>Normal</td>\n",
       "      <td>Cover</td>\n",
       "    </tr>\n",
       "  </tbody>\n",
       "</table>\n",
       "<p>2 rows × 26 columns</p>\n",
       "</div>"
      ],
      "text/plain": [
       "       id_x  team_api_id  team_fifa_api_id_x  id_y  team_fifa_api_id_y  \\\n",
       "1255  43042         8634               241.0   123                 241   \n",
       "1256  43042         8634               241.0   124                 241   \n",
       "\n",
       "      buildUpPlaySpeed buildUpPlaySpeedClass  buildUpPlayDribbling  \\\n",
       "1255                35              Balanced                  35.0   \n",
       "1256                36              Balanced                  35.0   \n",
       "\n",
       "     buildUpPlayDribblingClass  buildUpPlayPassing  ...  \\\n",
       "1255                    Normal                  32  ...   \n",
       "1256                    Normal                  51  ...   \n",
       "\n",
       "     chanceCreationShooting chanceCreationShootingClass  \\\n",
       "1255                     35                      Normal   \n",
       "1256                     56                      Normal   \n",
       "\n",
       "      chanceCreationPositioningClass defencePressure  defencePressureClass  \\\n",
       "1255                       Free Form              61                Medium   \n",
       "1256                       Free Form              61                Medium   \n",
       "\n",
       "     defenceAggression  defenceAggressionClass defenceTeamWidth  \\\n",
       "1255                63                   Press               65   \n",
       "1256                65                   Press               65   \n",
       "\n",
       "     defenceTeamWidthClass  defenceDefenderLineClass  \n",
       "1255                Normal                     Cover  \n",
       "1256                Normal                     Cover  \n",
       "\n",
       "[2 rows x 26 columns]"
      ]
     },
     "execution_count": 86,
     "metadata": {},
     "output_type": "execute_result"
    }
   ],
   "source": [
    "#check attributes of the best team in Spain\n",
    "best_team_spain = Team.query('team_api_id == 8634')\n",
    "best_team_spain"
   ]
  },
  {
   "cell_type": "code",
   "execution_count": 87,
   "metadata": {},
   "outputs": [
    {
     "data": {
      "text/html": [
       "<div>\n",
       "<style scoped>\n",
       "    .dataframe tbody tr th:only-of-type {\n",
       "        vertical-align: middle;\n",
       "    }\n",
       "\n",
       "    .dataframe tbody tr th {\n",
       "        vertical-align: top;\n",
       "    }\n",
       "\n",
       "    .dataframe thead th {\n",
       "        text-align: right;\n",
       "    }\n",
       "</style>\n",
       "<table border=\"1\" class=\"dataframe\">\n",
       "  <thead>\n",
       "    <tr style=\"text-align: right;\">\n",
       "      <th></th>\n",
       "      <th>id_x</th>\n",
       "      <th>team_api_id</th>\n",
       "      <th>team_fifa_api_id_x</th>\n",
       "      <th>id_y</th>\n",
       "      <th>team_fifa_api_id_y</th>\n",
       "      <th>buildUpPlaySpeed</th>\n",
       "      <th>buildUpPlaySpeedClass</th>\n",
       "      <th>buildUpPlayDribbling</th>\n",
       "      <th>buildUpPlayDribblingClass</th>\n",
       "      <th>buildUpPlayPassing</th>\n",
       "      <th>...</th>\n",
       "      <th>chanceCreationShooting</th>\n",
       "      <th>chanceCreationShootingClass</th>\n",
       "      <th>chanceCreationPositioningClass</th>\n",
       "      <th>defencePressure</th>\n",
       "      <th>defencePressureClass</th>\n",
       "      <th>defenceAggression</th>\n",
       "      <th>defenceAggressionClass</th>\n",
       "      <th>defenceTeamWidth</th>\n",
       "      <th>defenceTeamWidthClass</th>\n",
       "      <th>defenceDefenderLineClass</th>\n",
       "    </tr>\n",
       "  </thead>\n",
       "  <tbody>\n",
       "    <tr>\n",
       "      <th>101</th>\n",
       "      <td>3457</td>\n",
       "      <td>10260</td>\n",
       "      <td>11.0</td>\n",
       "      <td>811</td>\n",
       "      <td>11</td>\n",
       "      <td>46</td>\n",
       "      <td>Balanced</td>\n",
       "      <td>34.0</td>\n",
       "      <td>Normal</td>\n",
       "      <td>54</td>\n",
       "      <td>...</td>\n",
       "      <td>56</td>\n",
       "      <td>Normal</td>\n",
       "      <td>Organised</td>\n",
       "      <td>42</td>\n",
       "      <td>Medium</td>\n",
       "      <td>41</td>\n",
       "      <td>Press</td>\n",
       "      <td>56</td>\n",
       "      <td>Normal</td>\n",
       "      <td>Cover</td>\n",
       "    </tr>\n",
       "    <tr>\n",
       "      <th>102</th>\n",
       "      <td>3457</td>\n",
       "      <td>10260</td>\n",
       "      <td>11.0</td>\n",
       "      <td>812</td>\n",
       "      <td>11</td>\n",
       "      <td>38</td>\n",
       "      <td>Balanced</td>\n",
       "      <td>42.0</td>\n",
       "      <td>Normal</td>\n",
       "      <td>44</td>\n",
       "      <td>...</td>\n",
       "      <td>40</td>\n",
       "      <td>Normal</td>\n",
       "      <td>Organised</td>\n",
       "      <td>54</td>\n",
       "      <td>Medium</td>\n",
       "      <td>53</td>\n",
       "      <td>Press</td>\n",
       "      <td>56</td>\n",
       "      <td>Normal</td>\n",
       "      <td>Cover</td>\n",
       "    </tr>\n",
       "  </tbody>\n",
       "</table>\n",
       "<p>2 rows × 26 columns</p>\n",
       "</div>"
      ],
      "text/plain": [
       "     id_x  team_api_id  team_fifa_api_id_x  id_y  team_fifa_api_id_y  \\\n",
       "101  3457        10260                11.0   811                  11   \n",
       "102  3457        10260                11.0   812                  11   \n",
       "\n",
       "     buildUpPlaySpeed buildUpPlaySpeedClass  buildUpPlayDribbling  \\\n",
       "101                46              Balanced                  34.0   \n",
       "102                38              Balanced                  42.0   \n",
       "\n",
       "    buildUpPlayDribblingClass  buildUpPlayPassing  ... chanceCreationShooting  \\\n",
       "101                    Normal                  54  ...                     56   \n",
       "102                    Normal                  44  ...                     40   \n",
       "\n",
       "    chanceCreationShootingClass  chanceCreationPositioningClass  \\\n",
       "101                      Normal                       Organised   \n",
       "102                      Normal                       Organised   \n",
       "\n",
       "    defencePressure  defencePressureClass defenceAggression  \\\n",
       "101              42                Medium                41   \n",
       "102              54                Medium                53   \n",
       "\n",
       "     defenceAggressionClass defenceTeamWidth defenceTeamWidthClass  \\\n",
       "101                   Press               56                Normal   \n",
       "102                   Press               56                Normal   \n",
       "\n",
       "     defenceDefenderLineClass  \n",
       "101                     Cover  \n",
       "102                     Cover  \n",
       "\n",
       "[2 rows x 26 columns]"
      ]
     },
     "execution_count": 87,
     "metadata": {},
     "output_type": "execute_result"
    }
   ],
   "source": [
    "#check attributes of the best team in England\n",
    "best_team_england = Team.query('team_api_id == 10260')\n",
    "best_team_england"
   ]
  },
  {
   "cell_type": "code",
   "execution_count": 88,
   "metadata": {},
   "outputs": [
    {
     "data": {
      "text/html": [
       "<div>\n",
       "<style scoped>\n",
       "    .dataframe tbody tr th:only-of-type {\n",
       "        vertical-align: middle;\n",
       "    }\n",
       "\n",
       "    .dataframe tbody tr th {\n",
       "        vertical-align: top;\n",
       "    }\n",
       "\n",
       "    .dataframe thead th {\n",
       "        text-align: right;\n",
       "    }\n",
       "</style>\n",
       "<table border=\"1\" class=\"dataframe\">\n",
       "  <thead>\n",
       "    <tr style=\"text-align: right;\">\n",
       "      <th></th>\n",
       "      <th>id_x</th>\n",
       "      <th>team_api_id</th>\n",
       "      <th>team_fifa_api_id_x</th>\n",
       "      <th>id_y</th>\n",
       "      <th>team_fifa_api_id_y</th>\n",
       "      <th>buildUpPlaySpeed</th>\n",
       "      <th>buildUpPlaySpeedClass</th>\n",
       "      <th>buildUpPlayDribbling</th>\n",
       "      <th>buildUpPlayDribblingClass</th>\n",
       "      <th>buildUpPlayPassing</th>\n",
       "      <th>...</th>\n",
       "      <th>chanceCreationShooting</th>\n",
       "      <th>chanceCreationShootingClass</th>\n",
       "      <th>chanceCreationPositioningClass</th>\n",
       "      <th>defencePressure</th>\n",
       "      <th>defencePressureClass</th>\n",
       "      <th>defenceAggression</th>\n",
       "      <th>defenceAggressionClass</th>\n",
       "      <th>defenceTeamWidth</th>\n",
       "      <th>defenceTeamWidthClass</th>\n",
       "      <th>defenceDefenderLineClass</th>\n",
       "    </tr>\n",
       "  </thead>\n",
       "  <tbody>\n",
       "    <tr>\n",
       "      <th>715</th>\n",
       "      <td>20522</td>\n",
       "      <td>9885</td>\n",
       "      <td>45.0</td>\n",
       "      <td>629</td>\n",
       "      <td>45</td>\n",
       "      <td>26</td>\n",
       "      <td>Slow</td>\n",
       "      <td>47.0</td>\n",
       "      <td>Normal</td>\n",
       "      <td>24</td>\n",
       "      <td>...</td>\n",
       "      <td>72</td>\n",
       "      <td>Lots</td>\n",
       "      <td>Organised</td>\n",
       "      <td>23</td>\n",
       "      <td>Deep</td>\n",
       "      <td>67</td>\n",
       "      <td>Double</td>\n",
       "      <td>36</td>\n",
       "      <td>Normal</td>\n",
       "      <td>Cover</td>\n",
       "    </tr>\n",
       "    <tr>\n",
       "      <th>716</th>\n",
       "      <td>20522</td>\n",
       "      <td>9885</td>\n",
       "      <td>45.0</td>\n",
       "      <td>630</td>\n",
       "      <td>45</td>\n",
       "      <td>50</td>\n",
       "      <td>Balanced</td>\n",
       "      <td>35.0</td>\n",
       "      <td>Normal</td>\n",
       "      <td>20</td>\n",
       "      <td>...</td>\n",
       "      <td>80</td>\n",
       "      <td>Lots</td>\n",
       "      <td>Organised</td>\n",
       "      <td>35</td>\n",
       "      <td>Medium</td>\n",
       "      <td>65</td>\n",
       "      <td>Press</td>\n",
       "      <td>35</td>\n",
       "      <td>Normal</td>\n",
       "      <td>Cover</td>\n",
       "    </tr>\n",
       "  </tbody>\n",
       "</table>\n",
       "<p>2 rows × 26 columns</p>\n",
       "</div>"
      ],
      "text/plain": [
       "      id_x  team_api_id  team_fifa_api_id_x  id_y  team_fifa_api_id_y  \\\n",
       "715  20522         9885                45.0   629                  45   \n",
       "716  20522         9885                45.0   630                  45   \n",
       "\n",
       "     buildUpPlaySpeed buildUpPlaySpeedClass  buildUpPlayDribbling  \\\n",
       "715                26                  Slow                  47.0   \n",
       "716                50              Balanced                  35.0   \n",
       "\n",
       "    buildUpPlayDribblingClass  buildUpPlayPassing  ... chanceCreationShooting  \\\n",
       "715                    Normal                  24  ...                     72   \n",
       "716                    Normal                  20  ...                     80   \n",
       "\n",
       "    chanceCreationShootingClass  chanceCreationPositioningClass  \\\n",
       "715                        Lots                       Organised   \n",
       "716                        Lots                       Organised   \n",
       "\n",
       "    defencePressure  defencePressureClass defenceAggression  \\\n",
       "715              23                  Deep                67   \n",
       "716              35                Medium                65   \n",
       "\n",
       "     defenceAggressionClass defenceTeamWidth defenceTeamWidthClass  \\\n",
       "715                  Double               36                Normal   \n",
       "716                   Press               35                Normal   \n",
       "\n",
       "     defenceDefenderLineClass  \n",
       "715                     Cover  \n",
       "716                     Cover  \n",
       "\n",
       "[2 rows x 26 columns]"
      ]
     },
     "execution_count": 88,
     "metadata": {},
     "output_type": "execute_result"
    }
   ],
   "source": [
    "#check attributes of the best team in Italy\n",
    "best_team_italy = Team.query('team_api_id == 9885')\n",
    "best_team_italy"
   ]
  },
  {
   "cell_type": "code",
   "execution_count": 89,
   "metadata": {},
   "outputs": [
    {
     "name": "stderr",
     "output_type": "stream",
     "text": [
      "/var/folders/70/xyz7khq54gx8qklx52wtt6tw0000gn/T/ipykernel_37034/1689909838.py:2: FutureWarning: The frame.append method is deprecated and will be removed from pandas in a future version. Use pandas.concat instead.\n",
      "  best_teams = best_team_spain.append(best_team_england, ignore_index=True)\n",
      "/var/folders/70/xyz7khq54gx8qklx52wtt6tw0000gn/T/ipykernel_37034/1689909838.py:3: FutureWarning: The frame.append method is deprecated and will be removed from pandas in a future version. Use pandas.concat instead.\n",
      "  best_teams = best_teams.append(best_team_italy, ignore_index=True)\n"
     ]
    },
    {
     "data": {
      "text/html": [
       "<div>\n",
       "<style scoped>\n",
       "    .dataframe tbody tr th:only-of-type {\n",
       "        vertical-align: middle;\n",
       "    }\n",
       "\n",
       "    .dataframe tbody tr th {\n",
       "        vertical-align: top;\n",
       "    }\n",
       "\n",
       "    .dataframe thead th {\n",
       "        text-align: right;\n",
       "    }\n",
       "</style>\n",
       "<table border=\"1\" class=\"dataframe\">\n",
       "  <thead>\n",
       "    <tr style=\"text-align: right;\">\n",
       "      <th></th>\n",
       "      <th>id_x</th>\n",
       "      <th>team_api_id</th>\n",
       "      <th>team_fifa_api_id_x</th>\n",
       "      <th>id_y</th>\n",
       "      <th>team_fifa_api_id_y</th>\n",
       "      <th>buildUpPlaySpeed</th>\n",
       "      <th>buildUpPlaySpeedClass</th>\n",
       "      <th>buildUpPlayDribbling</th>\n",
       "      <th>buildUpPlayDribblingClass</th>\n",
       "      <th>buildUpPlayPassing</th>\n",
       "      <th>...</th>\n",
       "      <th>chanceCreationShooting</th>\n",
       "      <th>chanceCreationShootingClass</th>\n",
       "      <th>chanceCreationPositioningClass</th>\n",
       "      <th>defencePressure</th>\n",
       "      <th>defencePressureClass</th>\n",
       "      <th>defenceAggression</th>\n",
       "      <th>defenceAggressionClass</th>\n",
       "      <th>defenceTeamWidth</th>\n",
       "      <th>defenceTeamWidthClass</th>\n",
       "      <th>defenceDefenderLineClass</th>\n",
       "    </tr>\n",
       "  </thead>\n",
       "  <tbody>\n",
       "    <tr>\n",
       "      <th>0</th>\n",
       "      <td>43042</td>\n",
       "      <td>8634</td>\n",
       "      <td>241.0</td>\n",
       "      <td>123</td>\n",
       "      <td>241</td>\n",
       "      <td>35</td>\n",
       "      <td>Balanced</td>\n",
       "      <td>35.0</td>\n",
       "      <td>Normal</td>\n",
       "      <td>32</td>\n",
       "      <td>...</td>\n",
       "      <td>35</td>\n",
       "      <td>Normal</td>\n",
       "      <td>Free Form</td>\n",
       "      <td>61</td>\n",
       "      <td>Medium</td>\n",
       "      <td>63</td>\n",
       "      <td>Press</td>\n",
       "      <td>65</td>\n",
       "      <td>Normal</td>\n",
       "      <td>Cover</td>\n",
       "    </tr>\n",
       "    <tr>\n",
       "      <th>1</th>\n",
       "      <td>43042</td>\n",
       "      <td>8634</td>\n",
       "      <td>241.0</td>\n",
       "      <td>124</td>\n",
       "      <td>241</td>\n",
       "      <td>36</td>\n",
       "      <td>Balanced</td>\n",
       "      <td>35.0</td>\n",
       "      <td>Normal</td>\n",
       "      <td>51</td>\n",
       "      <td>...</td>\n",
       "      <td>56</td>\n",
       "      <td>Normal</td>\n",
       "      <td>Free Form</td>\n",
       "      <td>61</td>\n",
       "      <td>Medium</td>\n",
       "      <td>65</td>\n",
       "      <td>Press</td>\n",
       "      <td>65</td>\n",
       "      <td>Normal</td>\n",
       "      <td>Cover</td>\n",
       "    </tr>\n",
       "    <tr>\n",
       "      <th>2</th>\n",
       "      <td>3457</td>\n",
       "      <td>10260</td>\n",
       "      <td>11.0</td>\n",
       "      <td>811</td>\n",
       "      <td>11</td>\n",
       "      <td>46</td>\n",
       "      <td>Balanced</td>\n",
       "      <td>34.0</td>\n",
       "      <td>Normal</td>\n",
       "      <td>54</td>\n",
       "      <td>...</td>\n",
       "      <td>56</td>\n",
       "      <td>Normal</td>\n",
       "      <td>Organised</td>\n",
       "      <td>42</td>\n",
       "      <td>Medium</td>\n",
       "      <td>41</td>\n",
       "      <td>Press</td>\n",
       "      <td>56</td>\n",
       "      <td>Normal</td>\n",
       "      <td>Cover</td>\n",
       "    </tr>\n",
       "    <tr>\n",
       "      <th>3</th>\n",
       "      <td>3457</td>\n",
       "      <td>10260</td>\n",
       "      <td>11.0</td>\n",
       "      <td>812</td>\n",
       "      <td>11</td>\n",
       "      <td>38</td>\n",
       "      <td>Balanced</td>\n",
       "      <td>42.0</td>\n",
       "      <td>Normal</td>\n",
       "      <td>44</td>\n",
       "      <td>...</td>\n",
       "      <td>40</td>\n",
       "      <td>Normal</td>\n",
       "      <td>Organised</td>\n",
       "      <td>54</td>\n",
       "      <td>Medium</td>\n",
       "      <td>53</td>\n",
       "      <td>Press</td>\n",
       "      <td>56</td>\n",
       "      <td>Normal</td>\n",
       "      <td>Cover</td>\n",
       "    </tr>\n",
       "    <tr>\n",
       "      <th>4</th>\n",
       "      <td>20522</td>\n",
       "      <td>9885</td>\n",
       "      <td>45.0</td>\n",
       "      <td>629</td>\n",
       "      <td>45</td>\n",
       "      <td>26</td>\n",
       "      <td>Slow</td>\n",
       "      <td>47.0</td>\n",
       "      <td>Normal</td>\n",
       "      <td>24</td>\n",
       "      <td>...</td>\n",
       "      <td>72</td>\n",
       "      <td>Lots</td>\n",
       "      <td>Organised</td>\n",
       "      <td>23</td>\n",
       "      <td>Deep</td>\n",
       "      <td>67</td>\n",
       "      <td>Double</td>\n",
       "      <td>36</td>\n",
       "      <td>Normal</td>\n",
       "      <td>Cover</td>\n",
       "    </tr>\n",
       "    <tr>\n",
       "      <th>5</th>\n",
       "      <td>20522</td>\n",
       "      <td>9885</td>\n",
       "      <td>45.0</td>\n",
       "      <td>630</td>\n",
       "      <td>45</td>\n",
       "      <td>50</td>\n",
       "      <td>Balanced</td>\n",
       "      <td>35.0</td>\n",
       "      <td>Normal</td>\n",
       "      <td>20</td>\n",
       "      <td>...</td>\n",
       "      <td>80</td>\n",
       "      <td>Lots</td>\n",
       "      <td>Organised</td>\n",
       "      <td>35</td>\n",
       "      <td>Medium</td>\n",
       "      <td>65</td>\n",
       "      <td>Press</td>\n",
       "      <td>35</td>\n",
       "      <td>Normal</td>\n",
       "      <td>Cover</td>\n",
       "    </tr>\n",
       "  </tbody>\n",
       "</table>\n",
       "<p>6 rows × 26 columns</p>\n",
       "</div>"
      ],
      "text/plain": [
       "    id_x  team_api_id  team_fifa_api_id_x  id_y  team_fifa_api_id_y  \\\n",
       "0  43042         8634               241.0   123                 241   \n",
       "1  43042         8634               241.0   124                 241   \n",
       "2   3457        10260                11.0   811                  11   \n",
       "3   3457        10260                11.0   812                  11   \n",
       "4  20522         9885                45.0   629                  45   \n",
       "5  20522         9885                45.0   630                  45   \n",
       "\n",
       "   buildUpPlaySpeed buildUpPlaySpeedClass  buildUpPlayDribbling  \\\n",
       "0                35              Balanced                  35.0   \n",
       "1                36              Balanced                  35.0   \n",
       "2                46              Balanced                  34.0   \n",
       "3                38              Balanced                  42.0   \n",
       "4                26                  Slow                  47.0   \n",
       "5                50              Balanced                  35.0   \n",
       "\n",
       "  buildUpPlayDribblingClass  buildUpPlayPassing  ... chanceCreationShooting  \\\n",
       "0                    Normal                  32  ...                     35   \n",
       "1                    Normal                  51  ...                     56   \n",
       "2                    Normal                  54  ...                     56   \n",
       "3                    Normal                  44  ...                     40   \n",
       "4                    Normal                  24  ...                     72   \n",
       "5                    Normal                  20  ...                     80   \n",
       "\n",
       "  chanceCreationShootingClass  chanceCreationPositioningClass defencePressure  \\\n",
       "0                      Normal                       Free Form              61   \n",
       "1                      Normal                       Free Form              61   \n",
       "2                      Normal                       Organised              42   \n",
       "3                      Normal                       Organised              54   \n",
       "4                        Lots                       Organised              23   \n",
       "5                        Lots                       Organised              35   \n",
       "\n",
       "   defencePressureClass defenceAggression  defenceAggressionClass  \\\n",
       "0                Medium                63                   Press   \n",
       "1                Medium                65                   Press   \n",
       "2                Medium                41                   Press   \n",
       "3                Medium                53                   Press   \n",
       "4                  Deep                67                  Double   \n",
       "5                Medium                65                   Press   \n",
       "\n",
       "  defenceTeamWidth defenceTeamWidthClass  defenceDefenderLineClass  \n",
       "0               65                Normal                     Cover  \n",
       "1               65                Normal                     Cover  \n",
       "2               56                Normal                     Cover  \n",
       "3               56                Normal                     Cover  \n",
       "4               36                Normal                     Cover  \n",
       "5               35                Normal                     Cover  \n",
       "\n",
       "[6 rows x 26 columns]"
      ]
     },
     "execution_count": 89,
     "metadata": {},
     "output_type": "execute_result"
    }
   ],
   "source": [
    "#merge dataframes\n",
    "best_teams = best_team_spain.append(best_team_england, ignore_index=True)\n",
    "best_teams = best_teams.append(best_team_italy, ignore_index=True)\n",
    "best_teams.head(6)"
   ]
  },
  {
   "cell_type": "markdown",
   "metadata": {},
   "source": [
    "I would suggest that the success of the greatest teams may be attributed to a well-balanced play tempo and an organized position."
   ]
  },
  {
   "cell_type": "markdown",
   "metadata": {},
   "source": [
    "# Challenges"
   ]
  },
  {
   "cell_type": "markdown",
   "metadata": {},
   "source": [
    "- Due to the inaccuracy of the data, I encountered various restrictions and obstacles throughout the study of this project.\n",
    "\n",
    "- The names of the players were partial, since some lacked last names and had just first names, while others were altogether absent. In addition, I was unable to connect the players to the teams since there was no association between them.\n",
    "\n",
    "- The team names were lacking, thus the study was based only on IDs; as a result, I am unable to clearly depict which teams I belong to."
   ]
  },
  {
   "cell_type": "markdown",
   "metadata": {},
   "source": [
    "# Analysis Summary"
   ]
  },
  {
   "cell_type": "markdown",
   "metadata": {},
   "source": [
    "- Spain, England, and Italy were the top leagues in Europe from 2008 to 2016, according to my research. The top clubs have won around 200 games throughout this time span.\n",
    "\n",
    "- A player's average rating is 68, and there are more players with ratings above average than below average. The following player characteristics contribute to this rating: heading accuracy, ball control, sprint speed, long shoots, shooting power, dribbling ability, and strength.\n",
    "\n",
    "- The success of the greatest teams may be attributable to a well-balanced play tempo and strategic placement."
   ]
  },
  {
   "cell_type": "code",
   "execution_count": null,
   "metadata": {},
   "outputs": [],
   "source": []
  }
 ],
 "metadata": {
  "kernelspec": {
   "display_name": "Python 3 (ipykernel)",
   "language": "python",
   "name": "python3"
  },
  "language_info": {
   "codemirror_mode": {
    "name": "ipython",
    "version": 3
   },
   "file_extension": ".py",
   "mimetype": "text/x-python",
   "name": "python",
   "nbconvert_exporter": "python",
   "pygments_lexer": "ipython3",
   "version": "3.9.12"
  }
 },
 "nbformat": 4,
 "nbformat_minor": 4
}
